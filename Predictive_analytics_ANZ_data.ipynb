{
  "nbformat": 4,
  "nbformat_minor": 0,
  "metadata": {
    "colab": {
      "provenance": []
    },
    "kernelspec": {
      "name": "python3",
      "display_name": "Python 3"
    },
    "language_info": {
      "name": "python"
    }
  },
  "cells": [
    {
      "cell_type": "markdown",
      "source": [
        "## **Import Libraries**"
      ],
      "metadata": {
        "id": "12uL477qgSrr"
      }
    },
    {
      "cell_type": "code",
      "execution_count": 125,
      "metadata": {
        "id": "fQvyj1Q2Ecr8"
      },
      "outputs": [],
      "source": [
        "# Data wrangling \n",
        "import pandas as pd\n",
        "import numpy as np\n",
        "import seaborn as sns\n",
        "import matplotlib.pyplot as plt\n",
        "from statistics import mode\n",
        "\n",
        "# Machine learning\n",
        "from sklearn.model_selection import train_test_split\n",
        "from sklearn.preprocessing import OneHotEncoder, StandardScaler\n",
        "from sklearn.linear_model import LinearRegression\n",
        "from sklearn.tree import DecisionTreeRegressor\n",
        "from sklearn.compose import make_column_transformer\n",
        "from sklearn.pipeline import make_pipeline\n",
        "from sklearn.metrics import mean_squared_error\n"
      ]
    },
    {
      "cell_type": "code",
      "source": [
        "from google.colab import drive\n",
        "drive.mount('/content/drive')"
      ],
      "metadata": {
        "colab": {
          "base_uri": "https://localhost:8080/"
        },
        "id": "L6CQXpizNaHS",
        "outputId": "a2944260-553a-4952-82f7-7c7870b3fa28"
      },
      "execution_count": 126,
      "outputs": [
        {
          "output_type": "stream",
          "name": "stdout",
          "text": [
            "Drive already mounted at /content/drive; to attempt to forcibly remount, call drive.mount(\"/content/drive\", force_remount=True).\n"
          ]
        }
      ]
    },
    {
      "cell_type": "markdown",
      "source": [
        "### **Data Loading**"
      ],
      "metadata": {
        "id": "HUKDdegLODc1"
      }
    },
    {
      "cell_type": "code",
      "source": [
        "anz_df=pd.read_excel('/content/drive/MyDrive/ANZ synthesised transaction dataset.xlsx')"
      ],
      "metadata": {
        "id": "StjmgJpiN7Hn"
      },
      "execution_count": 257,
      "outputs": []
    },
    {
      "cell_type": "markdown",
      "source": [],
      "metadata": {
        "id": "sU5QM1AbRYyi"
      }
    },
    {
      "cell_type": "code",
      "source": [
        "anz_df.head()"
      ],
      "metadata": {
        "colab": {
          "base_uri": "https://localhost:8080/",
          "height": 560
        },
        "id": "ulT7aOXVOK_h",
        "outputId": "1a242ca9-7c7c-4be1-bfbb-3689b4972d59"
      },
      "execution_count": 128,
      "outputs": [
        {
          "output_type": "execute_result",
          "data": {
            "text/plain": [
              "       status  card_present_flag bpay_biller_code         account currency  \\\n",
              "0  authorized                1.0              NaN  ACC-1598451071      AUD   \n",
              "1  authorized                0.0              NaN  ACC-1598451071      AUD   \n",
              "2  authorized                1.0              NaN  ACC-1222300524      AUD   \n",
              "3  authorized                1.0              NaN  ACC-1037050564      AUD   \n",
              "4  authorized                1.0              NaN  ACC-1598451071      AUD   \n",
              "\n",
              "        long_lat txn_description                           merchant_id  \\\n",
              "0  153.41 -27.95             POS  81c48296-73be-44a7-befa-d053f48ce7cd   \n",
              "1  153.41 -27.95       SALES-POS  830a451c-316e-4a6a-bf25-e37caedca49e   \n",
              "2  151.23 -33.94             POS  835c231d-8cdf-4e96-859d-e9d571760cf0   \n",
              "3  153.10 -27.66       SALES-POS  48514682-c78a-4a88-b0da-2d6302e64673   \n",
              "4  153.41 -27.95       SALES-POS  b4e02c10-0852-4273-b8fd-7b3395e32eb0   \n",
              "\n",
              "   merchant_code first_name  ...  age merchant_suburb merchant_state  \\\n",
              "0            NaN      Diana  ...   26         Ashmore            QLD   \n",
              "1            NaN      Diana  ...   26          Sydney            NSW   \n",
              "2            NaN    Michael  ...   38          Sydney            NSW   \n",
              "3            NaN     Rhonda  ...   40         Buderim            QLD   \n",
              "4            NaN      Diana  ...   26   Mermaid Beach            QLD   \n",
              "\n",
              "                     extraction amount                    transaction_id  \\\n",
              "0  2018-08-01T01:01:15.000+0000  16.25  a623070bfead4541a6b0fff8a09e706c   \n",
              "1  2018-08-01T01:13:45.000+0000  14.19  13270a2a902145da9db4c951e04b51b9   \n",
              "2  2018-08-01T01:26:15.000+0000   6.42  feb79e7ecd7048a5a36ec889d1a94270   \n",
              "3  2018-08-01T01:38:45.000+0000  40.90  2698170da3704fd981b15e64a006079e   \n",
              "4  2018-08-01T01:51:15.000+0000   3.25  329adf79878c4cf0aeb4188b4691c266   \n",
              "\n",
              "     country     customer_id merchant_long_lat movement  \n",
              "0  Australia  CUS-2487424745     153.38 -27.99    debit  \n",
              "1  Australia  CUS-2487424745     151.21 -33.87    debit  \n",
              "2  Australia  CUS-2142601169     151.21 -33.87    debit  \n",
              "3  Australia  CUS-1614226872     153.05 -26.68    debit  \n",
              "4  Australia  CUS-2487424745     153.44 -28.06    debit  \n",
              "\n",
              "[5 rows x 23 columns]"
            ],
            "text/html": [
              "\n",
              "  <div id=\"df-ec92caf6-8818-4f2f-9d50-b46f5cfaf7b1\">\n",
              "    <div class=\"colab-df-container\">\n",
              "      <div>\n",
              "<style scoped>\n",
              "    .dataframe tbody tr th:only-of-type {\n",
              "        vertical-align: middle;\n",
              "    }\n",
              "\n",
              "    .dataframe tbody tr th {\n",
              "        vertical-align: top;\n",
              "    }\n",
              "\n",
              "    .dataframe thead th {\n",
              "        text-align: right;\n",
              "    }\n",
              "</style>\n",
              "<table border=\"1\" class=\"dataframe\">\n",
              "  <thead>\n",
              "    <tr style=\"text-align: right;\">\n",
              "      <th></th>\n",
              "      <th>status</th>\n",
              "      <th>card_present_flag</th>\n",
              "      <th>bpay_biller_code</th>\n",
              "      <th>account</th>\n",
              "      <th>currency</th>\n",
              "      <th>long_lat</th>\n",
              "      <th>txn_description</th>\n",
              "      <th>merchant_id</th>\n",
              "      <th>merchant_code</th>\n",
              "      <th>first_name</th>\n",
              "      <th>...</th>\n",
              "      <th>age</th>\n",
              "      <th>merchant_suburb</th>\n",
              "      <th>merchant_state</th>\n",
              "      <th>extraction</th>\n",
              "      <th>amount</th>\n",
              "      <th>transaction_id</th>\n",
              "      <th>country</th>\n",
              "      <th>customer_id</th>\n",
              "      <th>merchant_long_lat</th>\n",
              "      <th>movement</th>\n",
              "    </tr>\n",
              "  </thead>\n",
              "  <tbody>\n",
              "    <tr>\n",
              "      <th>0</th>\n",
              "      <td>authorized</td>\n",
              "      <td>1.0</td>\n",
              "      <td>NaN</td>\n",
              "      <td>ACC-1598451071</td>\n",
              "      <td>AUD</td>\n",
              "      <td>153.41 -27.95</td>\n",
              "      <td>POS</td>\n",
              "      <td>81c48296-73be-44a7-befa-d053f48ce7cd</td>\n",
              "      <td>NaN</td>\n",
              "      <td>Diana</td>\n",
              "      <td>...</td>\n",
              "      <td>26</td>\n",
              "      <td>Ashmore</td>\n",
              "      <td>QLD</td>\n",
              "      <td>2018-08-01T01:01:15.000+0000</td>\n",
              "      <td>16.25</td>\n",
              "      <td>a623070bfead4541a6b0fff8a09e706c</td>\n",
              "      <td>Australia</td>\n",
              "      <td>CUS-2487424745</td>\n",
              "      <td>153.38 -27.99</td>\n",
              "      <td>debit</td>\n",
              "    </tr>\n",
              "    <tr>\n",
              "      <th>1</th>\n",
              "      <td>authorized</td>\n",
              "      <td>0.0</td>\n",
              "      <td>NaN</td>\n",
              "      <td>ACC-1598451071</td>\n",
              "      <td>AUD</td>\n",
              "      <td>153.41 -27.95</td>\n",
              "      <td>SALES-POS</td>\n",
              "      <td>830a451c-316e-4a6a-bf25-e37caedca49e</td>\n",
              "      <td>NaN</td>\n",
              "      <td>Diana</td>\n",
              "      <td>...</td>\n",
              "      <td>26</td>\n",
              "      <td>Sydney</td>\n",
              "      <td>NSW</td>\n",
              "      <td>2018-08-01T01:13:45.000+0000</td>\n",
              "      <td>14.19</td>\n",
              "      <td>13270a2a902145da9db4c951e04b51b9</td>\n",
              "      <td>Australia</td>\n",
              "      <td>CUS-2487424745</td>\n",
              "      <td>151.21 -33.87</td>\n",
              "      <td>debit</td>\n",
              "    </tr>\n",
              "    <tr>\n",
              "      <th>2</th>\n",
              "      <td>authorized</td>\n",
              "      <td>1.0</td>\n",
              "      <td>NaN</td>\n",
              "      <td>ACC-1222300524</td>\n",
              "      <td>AUD</td>\n",
              "      <td>151.23 -33.94</td>\n",
              "      <td>POS</td>\n",
              "      <td>835c231d-8cdf-4e96-859d-e9d571760cf0</td>\n",
              "      <td>NaN</td>\n",
              "      <td>Michael</td>\n",
              "      <td>...</td>\n",
              "      <td>38</td>\n",
              "      <td>Sydney</td>\n",
              "      <td>NSW</td>\n",
              "      <td>2018-08-01T01:26:15.000+0000</td>\n",
              "      <td>6.42</td>\n",
              "      <td>feb79e7ecd7048a5a36ec889d1a94270</td>\n",
              "      <td>Australia</td>\n",
              "      <td>CUS-2142601169</td>\n",
              "      <td>151.21 -33.87</td>\n",
              "      <td>debit</td>\n",
              "    </tr>\n",
              "    <tr>\n",
              "      <th>3</th>\n",
              "      <td>authorized</td>\n",
              "      <td>1.0</td>\n",
              "      <td>NaN</td>\n",
              "      <td>ACC-1037050564</td>\n",
              "      <td>AUD</td>\n",
              "      <td>153.10 -27.66</td>\n",
              "      <td>SALES-POS</td>\n",
              "      <td>48514682-c78a-4a88-b0da-2d6302e64673</td>\n",
              "      <td>NaN</td>\n",
              "      <td>Rhonda</td>\n",
              "      <td>...</td>\n",
              "      <td>40</td>\n",
              "      <td>Buderim</td>\n",
              "      <td>QLD</td>\n",
              "      <td>2018-08-01T01:38:45.000+0000</td>\n",
              "      <td>40.90</td>\n",
              "      <td>2698170da3704fd981b15e64a006079e</td>\n",
              "      <td>Australia</td>\n",
              "      <td>CUS-1614226872</td>\n",
              "      <td>153.05 -26.68</td>\n",
              "      <td>debit</td>\n",
              "    </tr>\n",
              "    <tr>\n",
              "      <th>4</th>\n",
              "      <td>authorized</td>\n",
              "      <td>1.0</td>\n",
              "      <td>NaN</td>\n",
              "      <td>ACC-1598451071</td>\n",
              "      <td>AUD</td>\n",
              "      <td>153.41 -27.95</td>\n",
              "      <td>SALES-POS</td>\n",
              "      <td>b4e02c10-0852-4273-b8fd-7b3395e32eb0</td>\n",
              "      <td>NaN</td>\n",
              "      <td>Diana</td>\n",
              "      <td>...</td>\n",
              "      <td>26</td>\n",
              "      <td>Mermaid Beach</td>\n",
              "      <td>QLD</td>\n",
              "      <td>2018-08-01T01:51:15.000+0000</td>\n",
              "      <td>3.25</td>\n",
              "      <td>329adf79878c4cf0aeb4188b4691c266</td>\n",
              "      <td>Australia</td>\n",
              "      <td>CUS-2487424745</td>\n",
              "      <td>153.44 -28.06</td>\n",
              "      <td>debit</td>\n",
              "    </tr>\n",
              "  </tbody>\n",
              "</table>\n",
              "<p>5 rows × 23 columns</p>\n",
              "</div>\n",
              "      <button class=\"colab-df-convert\" onclick=\"convertToInteractive('df-ec92caf6-8818-4f2f-9d50-b46f5cfaf7b1')\"\n",
              "              title=\"Convert this dataframe to an interactive table.\"\n",
              "              style=\"display:none;\">\n",
              "        \n",
              "  <svg xmlns=\"http://www.w3.org/2000/svg\" height=\"24px\"viewBox=\"0 0 24 24\"\n",
              "       width=\"24px\">\n",
              "    <path d=\"M0 0h24v24H0V0z\" fill=\"none\"/>\n",
              "    <path d=\"M18.56 5.44l.94 2.06.94-2.06 2.06-.94-2.06-.94-.94-2.06-.94 2.06-2.06.94zm-11 1L8.5 8.5l.94-2.06 2.06-.94-2.06-.94L8.5 2.5l-.94 2.06-2.06.94zm10 10l.94 2.06.94-2.06 2.06-.94-2.06-.94-.94-2.06-.94 2.06-2.06.94z\"/><path d=\"M17.41 7.96l-1.37-1.37c-.4-.4-.92-.59-1.43-.59-.52 0-1.04.2-1.43.59L10.3 9.45l-7.72 7.72c-.78.78-.78 2.05 0 2.83L4 21.41c.39.39.9.59 1.41.59.51 0 1.02-.2 1.41-.59l7.78-7.78 2.81-2.81c.8-.78.8-2.07 0-2.86zM5.41 20L4 18.59l7.72-7.72 1.47 1.35L5.41 20z\"/>\n",
              "  </svg>\n",
              "      </button>\n",
              "      \n",
              "  <style>\n",
              "    .colab-df-container {\n",
              "      display:flex;\n",
              "      flex-wrap:wrap;\n",
              "      gap: 12px;\n",
              "    }\n",
              "\n",
              "    .colab-df-convert {\n",
              "      background-color: #E8F0FE;\n",
              "      border: none;\n",
              "      border-radius: 50%;\n",
              "      cursor: pointer;\n",
              "      display: none;\n",
              "      fill: #1967D2;\n",
              "      height: 32px;\n",
              "      padding: 0 0 0 0;\n",
              "      width: 32px;\n",
              "    }\n",
              "\n",
              "    .colab-df-convert:hover {\n",
              "      background-color: #E2EBFA;\n",
              "      box-shadow: 0px 1px 2px rgba(60, 64, 67, 0.3), 0px 1px 3px 1px rgba(60, 64, 67, 0.15);\n",
              "      fill: #174EA6;\n",
              "    }\n",
              "\n",
              "    [theme=dark] .colab-df-convert {\n",
              "      background-color: #3B4455;\n",
              "      fill: #D2E3FC;\n",
              "    }\n",
              "\n",
              "    [theme=dark] .colab-df-convert:hover {\n",
              "      background-color: #434B5C;\n",
              "      box-shadow: 0px 1px 3px 1px rgba(0, 0, 0, 0.15);\n",
              "      filter: drop-shadow(0px 1px 2px rgba(0, 0, 0, 0.3));\n",
              "      fill: #FFFFFF;\n",
              "    }\n",
              "  </style>\n",
              "\n",
              "      <script>\n",
              "        const buttonEl =\n",
              "          document.querySelector('#df-ec92caf6-8818-4f2f-9d50-b46f5cfaf7b1 button.colab-df-convert');\n",
              "        buttonEl.style.display =\n",
              "          google.colab.kernel.accessAllowed ? 'block' : 'none';\n",
              "\n",
              "        async function convertToInteractive(key) {\n",
              "          const element = document.querySelector('#df-ec92caf6-8818-4f2f-9d50-b46f5cfaf7b1');\n",
              "          const dataTable =\n",
              "            await google.colab.kernel.invokeFunction('convertToInteractive',\n",
              "                                                     [key], {});\n",
              "          if (!dataTable) return;\n",
              "\n",
              "          const docLinkHtml = 'Like what you see? Visit the ' +\n",
              "            '<a target=\"_blank\" href=https://colab.research.google.com/notebooks/data_table.ipynb>data table notebook</a>'\n",
              "            + ' to learn more about interactive tables.';\n",
              "          element.innerHTML = '';\n",
              "          dataTable['output_type'] = 'display_data';\n",
              "          await google.colab.output.renderOutput(dataTable, element);\n",
              "          const docLink = document.createElement('div');\n",
              "          docLink.innerHTML = docLinkHtml;\n",
              "          element.appendChild(docLink);\n",
              "        }\n",
              "      </script>\n",
              "    </div>\n",
              "  </div>\n",
              "  "
            ]
          },
          "metadata": {},
          "execution_count": 128
        }
      ]
    },
    {
      "cell_type": "markdown",
      "source": [
        "### **Feature Engineering**\n",
        "Compute the annual salary for each customer and create features that can help us predict the annual salaries.\n",
        "\n",
        "First, we will make the annual salary the target variable that we are supposed to predict using a model.\n"
      ],
      "metadata": {
        "id": "0K1MuxNpOfzS"
      }
    },
    {
      "cell_type": "markdown",
      "source": [],
      "metadata": {
        "id": "FZf85gvrPBlY"
      }
    },
    {
      "cell_type": "code",
      "source": [
        "salary_df=pd.DataFrame({\"customer_id\": anz_df.customer_id.unique()})"
      ],
      "metadata": {
        "id": "Hg1KvXS9OfEa"
      },
      "execution_count": 129,
      "outputs": []
    },
    {
      "cell_type": "code",
      "source": [
        "# Loop through all salary payments for each customer\n",
        "# Assume the salary level is constant for each customer over the observed period\n",
        "df_freq = []\n",
        "df_amount = []\n",
        "\n",
        "for customer in range(len(salary_df)):\n",
        "    salary = anz_df.loc[(anz_df.customer_id == salary_df.customer_id[customer]) & (anz_df.txn_description == \"PAY/SALARY\"), [\"date\", \"amount\"]].groupby(\"date\", as_index = False).sum()\n",
        "    count = len(salary)\n",
        "    if count == 0:\n",
        "        df_amount.append(np.nan)\n",
        "        df_freq.append(np.nan)\n",
        "    else:\n",
        "        days_between_payments = []\n",
        "        for date in range(len(salary)-1):\n",
        "            days_between_payments.append((salary.date[date + 1] - salary.date[date]).days)\n",
        "        df_freq.append(max(days_between_payments))\n",
        "        df_amount.append(mode(salary.amount))\n",
        "\n",
        "salary_df[\"salary_freq\"] = df_freq\n",
        "salary_df[\"salary_amount\"] = df_amount       \n",
        "salary_df[\"annual_salary\"] = salary_df[\"salary_amount\"] / salary_df[\"salary_freq\"] * 365.25\n",
        "salary_df.head()"
      ],
      "metadata": {
        "colab": {
          "base_uri": "https://localhost:8080/",
          "height": 206
        },
        "id": "LdugMmSTOSfj",
        "outputId": "4cd42007-c611-4a2c-b50b-9ef403d7b81e"
      },
      "execution_count": 130,
      "outputs": [
        {
          "output_type": "execute_result",
          "data": {
            "text/plain": [
              "      customer_id  salary_freq  salary_amount  annual_salary\n",
              "0  CUS-2487424745            7        1013.67   52891.852500\n",
              "1  CUS-2142601169            7        1002.13   52289.711786\n",
              "2  CUS-1614226872            7         892.09   46547.981786\n",
              "3  CUS-2688605418           14        2320.30   60534.969643\n",
              "4  CUS-4123612273            7        1068.04   55728.801429"
            ],
            "text/html": [
              "\n",
              "  <div id=\"df-617f5c00-2e0b-482c-8b8f-215214086dd1\">\n",
              "    <div class=\"colab-df-container\">\n",
              "      <div>\n",
              "<style scoped>\n",
              "    .dataframe tbody tr th:only-of-type {\n",
              "        vertical-align: middle;\n",
              "    }\n",
              "\n",
              "    .dataframe tbody tr th {\n",
              "        vertical-align: top;\n",
              "    }\n",
              "\n",
              "    .dataframe thead th {\n",
              "        text-align: right;\n",
              "    }\n",
              "</style>\n",
              "<table border=\"1\" class=\"dataframe\">\n",
              "  <thead>\n",
              "    <tr style=\"text-align: right;\">\n",
              "      <th></th>\n",
              "      <th>customer_id</th>\n",
              "      <th>salary_freq</th>\n",
              "      <th>salary_amount</th>\n",
              "      <th>annual_salary</th>\n",
              "    </tr>\n",
              "  </thead>\n",
              "  <tbody>\n",
              "    <tr>\n",
              "      <th>0</th>\n",
              "      <td>CUS-2487424745</td>\n",
              "      <td>7</td>\n",
              "      <td>1013.67</td>\n",
              "      <td>52891.852500</td>\n",
              "    </tr>\n",
              "    <tr>\n",
              "      <th>1</th>\n",
              "      <td>CUS-2142601169</td>\n",
              "      <td>7</td>\n",
              "      <td>1002.13</td>\n",
              "      <td>52289.711786</td>\n",
              "    </tr>\n",
              "    <tr>\n",
              "      <th>2</th>\n",
              "      <td>CUS-1614226872</td>\n",
              "      <td>7</td>\n",
              "      <td>892.09</td>\n",
              "      <td>46547.981786</td>\n",
              "    </tr>\n",
              "    <tr>\n",
              "      <th>3</th>\n",
              "      <td>CUS-2688605418</td>\n",
              "      <td>14</td>\n",
              "      <td>2320.30</td>\n",
              "      <td>60534.969643</td>\n",
              "    </tr>\n",
              "    <tr>\n",
              "      <th>4</th>\n",
              "      <td>CUS-4123612273</td>\n",
              "      <td>7</td>\n",
              "      <td>1068.04</td>\n",
              "      <td>55728.801429</td>\n",
              "    </tr>\n",
              "  </tbody>\n",
              "</table>\n",
              "</div>\n",
              "      <button class=\"colab-df-convert\" onclick=\"convertToInteractive('df-617f5c00-2e0b-482c-8b8f-215214086dd1')\"\n",
              "              title=\"Convert this dataframe to an interactive table.\"\n",
              "              style=\"display:none;\">\n",
              "        \n",
              "  <svg xmlns=\"http://www.w3.org/2000/svg\" height=\"24px\"viewBox=\"0 0 24 24\"\n",
              "       width=\"24px\">\n",
              "    <path d=\"M0 0h24v24H0V0z\" fill=\"none\"/>\n",
              "    <path d=\"M18.56 5.44l.94 2.06.94-2.06 2.06-.94-2.06-.94-.94-2.06-.94 2.06-2.06.94zm-11 1L8.5 8.5l.94-2.06 2.06-.94-2.06-.94L8.5 2.5l-.94 2.06-2.06.94zm10 10l.94 2.06.94-2.06 2.06-.94-2.06-.94-.94-2.06-.94 2.06-2.06.94z\"/><path d=\"M17.41 7.96l-1.37-1.37c-.4-.4-.92-.59-1.43-.59-.52 0-1.04.2-1.43.59L10.3 9.45l-7.72 7.72c-.78.78-.78 2.05 0 2.83L4 21.41c.39.39.9.59 1.41.59.51 0 1.02-.2 1.41-.59l7.78-7.78 2.81-2.81c.8-.78.8-2.07 0-2.86zM5.41 20L4 18.59l7.72-7.72 1.47 1.35L5.41 20z\"/>\n",
              "  </svg>\n",
              "      </button>\n",
              "      \n",
              "  <style>\n",
              "    .colab-df-container {\n",
              "      display:flex;\n",
              "      flex-wrap:wrap;\n",
              "      gap: 12px;\n",
              "    }\n",
              "\n",
              "    .colab-df-convert {\n",
              "      background-color: #E8F0FE;\n",
              "      border: none;\n",
              "      border-radius: 50%;\n",
              "      cursor: pointer;\n",
              "      display: none;\n",
              "      fill: #1967D2;\n",
              "      height: 32px;\n",
              "      padding: 0 0 0 0;\n",
              "      width: 32px;\n",
              "    }\n",
              "\n",
              "    .colab-df-convert:hover {\n",
              "      background-color: #E2EBFA;\n",
              "      box-shadow: 0px 1px 2px rgba(60, 64, 67, 0.3), 0px 1px 3px 1px rgba(60, 64, 67, 0.15);\n",
              "      fill: #174EA6;\n",
              "    }\n",
              "\n",
              "    [theme=dark] .colab-df-convert {\n",
              "      background-color: #3B4455;\n",
              "      fill: #D2E3FC;\n",
              "    }\n",
              "\n",
              "    [theme=dark] .colab-df-convert:hover {\n",
              "      background-color: #434B5C;\n",
              "      box-shadow: 0px 1px 3px 1px rgba(0, 0, 0, 0.15);\n",
              "      filter: drop-shadow(0px 1px 2px rgba(0, 0, 0, 0.3));\n",
              "      fill: #FFFFFF;\n",
              "    }\n",
              "  </style>\n",
              "\n",
              "      <script>\n",
              "        const buttonEl =\n",
              "          document.querySelector('#df-617f5c00-2e0b-482c-8b8f-215214086dd1 button.colab-df-convert');\n",
              "        buttonEl.style.display =\n",
              "          google.colab.kernel.accessAllowed ? 'block' : 'none';\n",
              "\n",
              "        async function convertToInteractive(key) {\n",
              "          const element = document.querySelector('#df-617f5c00-2e0b-482c-8b8f-215214086dd1');\n",
              "          const dataTable =\n",
              "            await google.colab.kernel.invokeFunction('convertToInteractive',\n",
              "                                                     [key], {});\n",
              "          if (!dataTable) return;\n",
              "\n",
              "          const docLinkHtml = 'Like what you see? Visit the ' +\n",
              "            '<a target=\"_blank\" href=https://colab.research.google.com/notebooks/data_table.ipynb>data table notebook</a>'\n",
              "            + ' to learn more about interactive tables.';\n",
              "          element.innerHTML = '';\n",
              "          dataTable['output_type'] = 'display_data';\n",
              "          await google.colab.output.renderOutput(dataTable, element);\n",
              "          const docLink = document.createElement('div');\n",
              "          docLink.innerHTML = docLinkHtml;\n",
              "          element.appendChild(docLink);\n",
              "        }\n",
              "      </script>\n",
              "    </div>\n",
              "  </div>\n",
              "  "
            ]
          },
          "metadata": {},
          "execution_count": 130
        }
      ]
    },
    {
      "cell_type": "markdown",
      "source": [
        "### **Predictor Variables**\n",
        "Age, gender, average number of weekly transactions,maximum transaction amount, most frequently transacted amount, median balance, average expenditure, different transaction types are used as independent features in this prediction.\n",
        "These features where chosen, and their correlation to each other was determined, which was used to intuit whether the selected(and created) features could be predictive."
      ],
      "metadata": {
        "id": "IBl_wqD1U_P4"
      }
    },
    {
      "cell_type": "markdown",
      "source": [],
      "metadata": {
        "id": "I7GSpPnEVUs6"
      }
    },
    {
      "cell_type": "code",
      "source": [
        "# Unique customer id's \n",
        "unique_id = anz_df.customer_id.unique()\n",
        "len(unique_id)"
      ],
      "metadata": {
        "colab": {
          "base_uri": "https://localhost:8080/"
        },
        "id": "O8mq21M5aIym",
        "outputId": "65f067e5-437c-4dc9-a870-fe40856f35b7"
      },
      "execution_count": 131,
      "outputs": [
        {
          "output_type": "execute_result",
          "data": {
            "text/plain": [
              "100"
            ]
          },
          "metadata": {},
          "execution_count": 131
        }
      ]
    },
    {
      "cell_type": "code",
      "source": [
        "!pip install dython"
      ],
      "metadata": {
        "colab": {
          "base_uri": "https://localhost:8080/"
        },
        "id": "b7CxZHmi7r6r",
        "outputId": "64f71905-18df-4338-b8eb-b6713a262bbd"
      },
      "execution_count": 138,
      "outputs": [
        {
          "output_type": "stream",
          "name": "stdout",
          "text": [
            "Looking in indexes: https://pypi.org/simple, https://us-python.pkg.dev/colab-wheels/public/simple/\n",
            "Requirement already satisfied: dython in /usr/local/lib/python3.7/dist-packages (0.7.1.post4)\n",
            "Requirement already satisfied: seaborn>=0.11.0 in /usr/local/lib/python3.7/dist-packages (from dython) (0.11.2)\n",
            "Requirement already satisfied: matplotlib>=3.4.3 in /usr/local/lib/python3.7/dist-packages (from dython) (3.5.3)\n",
            "Requirement already satisfied: scikit-learn>=0.24.2 in /usr/local/lib/python3.7/dist-packages (from dython) (1.0.2)\n",
            "Requirement already satisfied: pandas>=1.3.2 in /usr/local/lib/python3.7/dist-packages (from dython) (1.3.5)\n",
            "Requirement already satisfied: scipy>=1.7.1 in /usr/local/lib/python3.7/dist-packages (from dython) (1.7.3)\n",
            "Requirement already satisfied: scikit-plot>=0.3.7 in /usr/local/lib/python3.7/dist-packages (from dython) (0.3.7)\n",
            "Requirement already satisfied: numpy>=1.19.5 in /usr/local/lib/python3.7/dist-packages (from dython) (1.21.6)\n",
            "Requirement already satisfied: cycler>=0.10 in /usr/local/lib/python3.7/dist-packages (from matplotlib>=3.4.3->dython) (0.11.0)\n",
            "Requirement already satisfied: kiwisolver>=1.0.1 in /usr/local/lib/python3.7/dist-packages (from matplotlib>=3.4.3->dython) (1.4.4)\n",
            "Requirement already satisfied: python-dateutil>=2.7 in /usr/local/lib/python3.7/dist-packages (from matplotlib>=3.4.3->dython) (2.8.2)\n",
            "Requirement already satisfied: fonttools>=4.22.0 in /usr/local/lib/python3.7/dist-packages (from matplotlib>=3.4.3->dython) (4.37.1)\n",
            "Requirement already satisfied: packaging>=20.0 in /usr/local/lib/python3.7/dist-packages (from matplotlib>=3.4.3->dython) (21.3)\n",
            "Requirement already satisfied: pillow>=6.2.0 in /usr/local/lib/python3.7/dist-packages (from matplotlib>=3.4.3->dython) (7.1.2)\n",
            "Requirement already satisfied: pyparsing>=2.2.1 in /usr/local/lib/python3.7/dist-packages (from matplotlib>=3.4.3->dython) (3.0.9)\n",
            "Requirement already satisfied: typing-extensions in /usr/local/lib/python3.7/dist-packages (from kiwisolver>=1.0.1->matplotlib>=3.4.3->dython) (4.1.1)\n",
            "Requirement already satisfied: pytz>=2017.3 in /usr/local/lib/python3.7/dist-packages (from pandas>=1.3.2->dython) (2022.2.1)\n",
            "Requirement already satisfied: six>=1.5 in /usr/local/lib/python3.7/dist-packages (from python-dateutil>=2.7->matplotlib>=3.4.3->dython) (1.15.0)\n",
            "Requirement already satisfied: joblib>=0.11 in /usr/local/lib/python3.7/dist-packages (from scikit-learn>=0.24.2->dython) (1.1.0)\n",
            "Requirement already satisfied: threadpoolctl>=2.0.0 in /usr/local/lib/python3.7/dist-packages (from scikit-learn>=0.24.2->dython) (3.1.0)\n"
          ]
        }
      ]
    },
    {
      "cell_type": "markdown",
      "source": [
        "Since, a significant number of the features are categorical variable, determining the correlation of only the numeric values wasn't enough. So, the dpython library is used to demonstrate correlation using heatmaps."
      ],
      "metadata": {
        "id": "p6Aw4xc3ihpC"
      }
    },
    {
      "cell_type": "code",
      "source": [
        "import pandas as pd\n",
        "from dython.nominal import associations"
      ],
      "metadata": {
        "id": "E7PDtRHCbOjj"
      },
      "execution_count": 139,
      "outputs": []
    },
    {
      "cell_type": "code",
      "source": [
        "from dython.nominal import identify_nominal_columns\n",
        "categorical_features=identify_nominal_columns(anz_df)\n",
        "categorical_features"
      ],
      "metadata": {
        "colab": {
          "base_uri": "https://localhost:8080/"
        },
        "id": "czRJjlckbW7M",
        "outputId": "42f03831-251c-4c49-84a4-09c5bc4fbef6"
      },
      "execution_count": 140,
      "outputs": [
        {
          "output_type": "execute_result",
          "data": {
            "text/plain": [
              "['status',\n",
              " 'bpay_biller_code',\n",
              " 'account',\n",
              " 'currency',\n",
              " 'long_lat',\n",
              " 'txn_description',\n",
              " 'merchant_id',\n",
              " 'first_name',\n",
              " 'gender',\n",
              " 'merchant_suburb',\n",
              " 'merchant_state',\n",
              " 'extraction',\n",
              " 'transaction_id',\n",
              " 'country',\n",
              " 'customer_id',\n",
              " 'merchant_long_lat',\n",
              " 'movement']"
            ]
          },
          "metadata": {},
          "execution_count": 140
        }
      ]
    },
    {
      "cell_type": "code",
      "source": [
        "correlatable_features=anz_df[['status','age', 'card_present_flag', 'balance', 'amount', \n",
        "                             \n",
        " 'bpay_biller_code',\n",
        " 'long_lat',\n",
        " 'txn_description',\n",
        " 'gender',\n",
        " 'merchant_suburb',\n",
        " 'merchant_state',\n",
        " 'merchant_long_lat',\n",
        " 'movement']]"
      ],
      "metadata": {
        "id": "CDqCMPiBdS7i"
      },
      "execution_count": 258,
      "outputs": []
    },
    {
      "cell_type": "code",
      "source": [
        "correlatable_features.head()"
      ],
      "metadata": {
        "colab": {
          "base_uri": "https://localhost:8080/",
          "height": 357
        },
        "id": "ZBJswWvweWEk",
        "outputId": "eb21c9b2-5f3e-489d-e17a-acab2d27349b"
      },
      "execution_count": 254,
      "outputs": [
        {
          "output_type": "execute_result",
          "data": {
            "text/plain": [
              "    status  age  card_present_flag  balance   amount bpay_biller_code  \\\n",
              "50  posted   23                NaN  8342.11  3903.95                0   \n",
              "61  posted   23                NaN  2040.58  1626.48                0   \n",
              "64  posted   22                NaN  3158.51   983.36                0   \n",
              "68  posted   24                NaN  2517.66  1408.08                0   \n",
              "70  posted   43                NaN  2271.79  1068.04                0   \n",
              "\n",
              "         long_lat txn_description gender merchant_suburb merchant_state  \\\n",
              "50  151.27 -33.76      PAY/SALARY      M             NaN            NaN   \n",
              "61  145.01 -37.93      PAY/SALARY      F             NaN            NaN   \n",
              "64  151.18 -33.80      PAY/SALARY      M             NaN            NaN   \n",
              "68  145.00 -37.83      PAY/SALARY      M             NaN            NaN   \n",
              "70  144.95 -37.76      PAY/SALARY      F             NaN            NaN   \n",
              "\n",
              "   merchant_long_lat movement  \n",
              "50               NaN   credit  \n",
              "61               NaN   credit  \n",
              "64               NaN   credit  \n",
              "68               NaN   credit  \n",
              "70               NaN   credit  "
            ],
            "text/html": [
              "\n",
              "  <div id=\"df-4e1acd63-cdbb-412c-9877-a77027408098\">\n",
              "    <div class=\"colab-df-container\">\n",
              "      <div>\n",
              "<style scoped>\n",
              "    .dataframe tbody tr th:only-of-type {\n",
              "        vertical-align: middle;\n",
              "    }\n",
              "\n",
              "    .dataframe tbody tr th {\n",
              "        vertical-align: top;\n",
              "    }\n",
              "\n",
              "    .dataframe thead th {\n",
              "        text-align: right;\n",
              "    }\n",
              "</style>\n",
              "<table border=\"1\" class=\"dataframe\">\n",
              "  <thead>\n",
              "    <tr style=\"text-align: right;\">\n",
              "      <th></th>\n",
              "      <th>status</th>\n",
              "      <th>age</th>\n",
              "      <th>card_present_flag</th>\n",
              "      <th>balance</th>\n",
              "      <th>amount</th>\n",
              "      <th>bpay_biller_code</th>\n",
              "      <th>long_lat</th>\n",
              "      <th>txn_description</th>\n",
              "      <th>gender</th>\n",
              "      <th>merchant_suburb</th>\n",
              "      <th>merchant_state</th>\n",
              "      <th>merchant_long_lat</th>\n",
              "      <th>movement</th>\n",
              "    </tr>\n",
              "  </thead>\n",
              "  <tbody>\n",
              "    <tr>\n",
              "      <th>50</th>\n",
              "      <td>posted</td>\n",
              "      <td>23</td>\n",
              "      <td>NaN</td>\n",
              "      <td>8342.11</td>\n",
              "      <td>3903.95</td>\n",
              "      <td>0</td>\n",
              "      <td>151.27 -33.76</td>\n",
              "      <td>PAY/SALARY</td>\n",
              "      <td>M</td>\n",
              "      <td>NaN</td>\n",
              "      <td>NaN</td>\n",
              "      <td>NaN</td>\n",
              "      <td>credit</td>\n",
              "    </tr>\n",
              "    <tr>\n",
              "      <th>61</th>\n",
              "      <td>posted</td>\n",
              "      <td>23</td>\n",
              "      <td>NaN</td>\n",
              "      <td>2040.58</td>\n",
              "      <td>1626.48</td>\n",
              "      <td>0</td>\n",
              "      <td>145.01 -37.93</td>\n",
              "      <td>PAY/SALARY</td>\n",
              "      <td>F</td>\n",
              "      <td>NaN</td>\n",
              "      <td>NaN</td>\n",
              "      <td>NaN</td>\n",
              "      <td>credit</td>\n",
              "    </tr>\n",
              "    <tr>\n",
              "      <th>64</th>\n",
              "      <td>posted</td>\n",
              "      <td>22</td>\n",
              "      <td>NaN</td>\n",
              "      <td>3158.51</td>\n",
              "      <td>983.36</td>\n",
              "      <td>0</td>\n",
              "      <td>151.18 -33.80</td>\n",
              "      <td>PAY/SALARY</td>\n",
              "      <td>M</td>\n",
              "      <td>NaN</td>\n",
              "      <td>NaN</td>\n",
              "      <td>NaN</td>\n",
              "      <td>credit</td>\n",
              "    </tr>\n",
              "    <tr>\n",
              "      <th>68</th>\n",
              "      <td>posted</td>\n",
              "      <td>24</td>\n",
              "      <td>NaN</td>\n",
              "      <td>2517.66</td>\n",
              "      <td>1408.08</td>\n",
              "      <td>0</td>\n",
              "      <td>145.00 -37.83</td>\n",
              "      <td>PAY/SALARY</td>\n",
              "      <td>M</td>\n",
              "      <td>NaN</td>\n",
              "      <td>NaN</td>\n",
              "      <td>NaN</td>\n",
              "      <td>credit</td>\n",
              "    </tr>\n",
              "    <tr>\n",
              "      <th>70</th>\n",
              "      <td>posted</td>\n",
              "      <td>43</td>\n",
              "      <td>NaN</td>\n",
              "      <td>2271.79</td>\n",
              "      <td>1068.04</td>\n",
              "      <td>0</td>\n",
              "      <td>144.95 -37.76</td>\n",
              "      <td>PAY/SALARY</td>\n",
              "      <td>F</td>\n",
              "      <td>NaN</td>\n",
              "      <td>NaN</td>\n",
              "      <td>NaN</td>\n",
              "      <td>credit</td>\n",
              "    </tr>\n",
              "  </tbody>\n",
              "</table>\n",
              "</div>\n",
              "      <button class=\"colab-df-convert\" onclick=\"convertToInteractive('df-4e1acd63-cdbb-412c-9877-a77027408098')\"\n",
              "              title=\"Convert this dataframe to an interactive table.\"\n",
              "              style=\"display:none;\">\n",
              "        \n",
              "  <svg xmlns=\"http://www.w3.org/2000/svg\" height=\"24px\"viewBox=\"0 0 24 24\"\n",
              "       width=\"24px\">\n",
              "    <path d=\"M0 0h24v24H0V0z\" fill=\"none\"/>\n",
              "    <path d=\"M18.56 5.44l.94 2.06.94-2.06 2.06-.94-2.06-.94-.94-2.06-.94 2.06-2.06.94zm-11 1L8.5 8.5l.94-2.06 2.06-.94-2.06-.94L8.5 2.5l-.94 2.06-2.06.94zm10 10l.94 2.06.94-2.06 2.06-.94-2.06-.94-.94-2.06-.94 2.06-2.06.94z\"/><path d=\"M17.41 7.96l-1.37-1.37c-.4-.4-.92-.59-1.43-.59-.52 0-1.04.2-1.43.59L10.3 9.45l-7.72 7.72c-.78.78-.78 2.05 0 2.83L4 21.41c.39.39.9.59 1.41.59.51 0 1.02-.2 1.41-.59l7.78-7.78 2.81-2.81c.8-.78.8-2.07 0-2.86zM5.41 20L4 18.59l7.72-7.72 1.47 1.35L5.41 20z\"/>\n",
              "  </svg>\n",
              "      </button>\n",
              "      \n",
              "  <style>\n",
              "    .colab-df-container {\n",
              "      display:flex;\n",
              "      flex-wrap:wrap;\n",
              "      gap: 12px;\n",
              "    }\n",
              "\n",
              "    .colab-df-convert {\n",
              "      background-color: #E8F0FE;\n",
              "      border: none;\n",
              "      border-radius: 50%;\n",
              "      cursor: pointer;\n",
              "      display: none;\n",
              "      fill: #1967D2;\n",
              "      height: 32px;\n",
              "      padding: 0 0 0 0;\n",
              "      width: 32px;\n",
              "    }\n",
              "\n",
              "    .colab-df-convert:hover {\n",
              "      background-color: #E2EBFA;\n",
              "      box-shadow: 0px 1px 2px rgba(60, 64, 67, 0.3), 0px 1px 3px 1px rgba(60, 64, 67, 0.15);\n",
              "      fill: #174EA6;\n",
              "    }\n",
              "\n",
              "    [theme=dark] .colab-df-convert {\n",
              "      background-color: #3B4455;\n",
              "      fill: #D2E3FC;\n",
              "    }\n",
              "\n",
              "    [theme=dark] .colab-df-convert:hover {\n",
              "      background-color: #434B5C;\n",
              "      box-shadow: 0px 1px 3px 1px rgba(0, 0, 0, 0.15);\n",
              "      filter: drop-shadow(0px 1px 2px rgba(0, 0, 0, 0.3));\n",
              "      fill: #FFFFFF;\n",
              "    }\n",
              "  </style>\n",
              "\n",
              "      <script>\n",
              "        const buttonEl =\n",
              "          document.querySelector('#df-4e1acd63-cdbb-412c-9877-a77027408098 button.colab-df-convert');\n",
              "        buttonEl.style.display =\n",
              "          google.colab.kernel.accessAllowed ? 'block' : 'none';\n",
              "\n",
              "        async function convertToInteractive(key) {\n",
              "          const element = document.querySelector('#df-4e1acd63-cdbb-412c-9877-a77027408098');\n",
              "          const dataTable =\n",
              "            await google.colab.kernel.invokeFunction('convertToInteractive',\n",
              "                                                     [key], {});\n",
              "          if (!dataTable) return;\n",
              "\n",
              "          const docLinkHtml = 'Like what you see? Visit the ' +\n",
              "            '<a target=\"_blank\" href=https://colab.research.google.com/notebooks/data_table.ipynb>data table notebook</a>'\n",
              "            + ' to learn more about interactive tables.';\n",
              "          element.innerHTML = '';\n",
              "          dataTable['output_type'] = 'display_data';\n",
              "          await google.colab.output.renderOutput(dataTable, element);\n",
              "          const docLink = document.createElement('div');\n",
              "          docLink.innerHTML = docLinkHtml;\n",
              "          element.appendChild(docLink);\n",
              "        }\n",
              "      </script>\n",
              "    </div>\n",
              "  </div>\n",
              "  "
            ]
          },
          "metadata": {},
          "execution_count": 254
        }
      ]
    },
    {
      "cell_type": "code",
      "source": [
        "anz_df.info()"
      ],
      "metadata": {
        "colab": {
          "base_uri": "https://localhost:8080/"
        },
        "id": "uXBfcNL4d3jY",
        "outputId": "49643ebc-6445-47d6-be71-7ffaf465af2f"
      },
      "execution_count": 143,
      "outputs": [
        {
          "output_type": "stream",
          "name": "stdout",
          "text": [
            "<class 'pandas.core.frame.DataFrame'>\n",
            "RangeIndex: 12043 entries, 0 to 12042\n",
            "Data columns (total 23 columns):\n",
            " #   Column             Non-Null Count  Dtype         \n",
            "---  ------             --------------  -----         \n",
            " 0   status             12043 non-null  object        \n",
            " 1   card_present_flag  7717 non-null   float64       \n",
            " 2   bpay_biller_code   885 non-null    object        \n",
            " 3   account            12043 non-null  object        \n",
            " 4   currency           12043 non-null  object        \n",
            " 5   long_lat           12043 non-null  object        \n",
            " 6   txn_description    12043 non-null  object        \n",
            " 7   merchant_id        7717 non-null   object        \n",
            " 8   merchant_code      883 non-null    float64       \n",
            " 9   first_name         12043 non-null  object        \n",
            " 10  balance            12043 non-null  float64       \n",
            " 11  date               12043 non-null  datetime64[ns]\n",
            " 12  gender             12043 non-null  object        \n",
            " 13  age                12043 non-null  int64         \n",
            " 14  merchant_suburb    7717 non-null   object        \n",
            " 15  merchant_state     7717 non-null   object        \n",
            " 16  extraction         12043 non-null  object        \n",
            " 17  amount             12043 non-null  float64       \n",
            " 18  transaction_id     12043 non-null  object        \n",
            " 19  country            12043 non-null  object        \n",
            " 20  customer_id        12043 non-null  object        \n",
            " 21  merchant_long_lat  7717 non-null   object        \n",
            " 22  movement           12043 non-null  object        \n",
            "dtypes: datetime64[ns](1), float64(4), int64(1), object(17)\n",
            "memory usage: 2.1+ MB\n"
          ]
        }
      ]
    },
    {
      "cell_type": "code",
      "source": [
        "complete_correlation= associations(correlatable_features, filename= 'complete_correlation.png', figsize=(10,10))"
      ],
      "metadata": {
        "colab": {
          "base_uri": "https://localhost:8080/",
          "height": 629
        },
        "id": "lREAUiQEbg-4",
        "outputId": "c64b78cb-86e6-4f64-a9d3-a4dca0f6500a"
      },
      "execution_count": 259,
      "outputs": [
        {
          "output_type": "display_data",
          "data": {
            "text/plain": [
              "<Figure size 720x720 with 2 Axes>"
            ],
            "image/png": "[encoded data removed]"
          },
          "metadata": {
            "needs_background": "light"
          }
        }
      ]
    },
    {
      "cell_type": "code",
      "source": [
        "df_complete_corr=complete_correlation['corr']\n",
        "df_complete_corr.dropna(axis=1, how='all').dropna(axis=0, how='all').style.background_gradient(cmap='coolwarm', axis=None).set_precision(2)"
      ],
      "metadata": {
        "colab": {
          "base_uri": "https://localhost:8080/",
          "height": 512
        },
        "id": "F6UGFoNZhbq_",
        "outputId": "3cf76f72-4926-43c7-eb95-bb892f63b4a1"
      },
      "execution_count": 145,
      "outputs": [
        {
          "output_type": "stream",
          "name": "stderr",
          "text": [
            "/usr/local/lib/python3.7/dist-packages/ipykernel_launcher.py:2: FutureWarning: this method is deprecated in favour of `Styler.format(precision=..)`\n",
            "  \n"
          ]
        },
        {
          "output_type": "execute_result",
          "data": {
            "text/plain": [
              "<pandas.io.formats.style.Styler at 0x7f05f2d7fc10>"
            ],
            "text/html": [
              "<style type=\"text/css\">\n",
              "#T_68283_row0_col0, #T_68283_row0_col7, #T_68283_row0_col10, #T_68283_row1_col1, #T_68283_row1_col6, #T_68283_row2_col2, #T_68283_row3_col3, #T_68283_row4_col4, #T_68283_row5_col5, #T_68283_row6_col1, #T_68283_row6_col6, #T_68283_row6_col8, #T_68283_row7_col0, #T_68283_row7_col7, #T_68283_row8_col6, #T_68283_row8_col8, #T_68283_row9_col9, #T_68283_row10_col0, #T_68283_row10_col10, #T_68283_row11_col11 {\n",
              "  background-color: #b40426;\n",
              "  color: #f1f1f1;\n",
              "}\n",
              "#T_68283_row0_col1, #T_68283_row1_col0, #T_68283_row7_col8, #T_68283_row8_col7 {\n",
              "  background-color: #90b2fe;\n",
              "  color: #000000;\n",
              "}\n",
              "#T_68283_row0_col2, #T_68283_row2_col0, #T_68283_row2_col7, #T_68283_row2_col10, #T_68283_row7_col2, #T_68283_row10_col2 {\n",
              "  background-color: #ea7b60;\n",
              "  color: #f1f1f1;\n",
              "}\n",
              "#T_68283_row0_col3, #T_68283_row3_col0 {\n",
              "  background-color: #9ebeff;\n",
              "  color: #000000;\n",
              "}\n",
              "#T_68283_row0_col4, #T_68283_row4_col0, #T_68283_row4_col10, #T_68283_row10_col4 {\n",
              "  background-color: #d5dbe5;\n",
              "  color: #000000;\n",
              "}\n",
              "#T_68283_row0_col5, #T_68283_row0_col12, #T_68283_row1_col5, #T_68283_row1_col12, #T_68283_row2_col12, #T_68283_row3_col12, #T_68283_row4_col12, #T_68283_row5_col0, #T_68283_row5_col1, #T_68283_row5_col7, #T_68283_row5_col8, #T_68283_row5_col9, #T_68283_row5_col10, #T_68283_row5_col11, #T_68283_row5_col12, #T_68283_row6_col12, #T_68283_row7_col5, #T_68283_row7_col12, #T_68283_row8_col5, #T_68283_row8_col12, #T_68283_row9_col5, #T_68283_row9_col12, #T_68283_row10_col5, #T_68283_row10_col12, #T_68283_row11_col5, #T_68283_row11_col12, #T_68283_row12_col0, #T_68283_row12_col1, #T_68283_row12_col2, #T_68283_row12_col3, #T_68283_row12_col4, #T_68283_row12_col5, #T_68283_row12_col6, #T_68283_row12_col7, #T_68283_row12_col8, #T_68283_row12_col9, #T_68283_row12_col10, #T_68283_row12_col11, #T_68283_row12_col12 {\n",
              "  background-color: #7da0f9;\n",
              "  color: #f1f1f1;\n",
              "}\n",
              "#T_68283_row0_col6, #T_68283_row6_col0 {\n",
              "  background-color: #dfdbd9;\n",
              "  color: #000000;\n",
              "}\n",
              "#T_68283_row0_col8, #T_68283_row3_col4, #T_68283_row4_col3, #T_68283_row8_col0 {\n",
              "  background-color: #8db0fe;\n",
              "  color: #000000;\n",
              "}\n",
              "#T_68283_row0_col9, #T_68283_row9_col0 {\n",
              "  background-color: #c83836;\n",
              "  color: #f1f1f1;\n",
              "}\n",
              "#T_68283_row0_col11, #T_68283_row10_col11, #T_68283_row11_col0, #T_68283_row11_col10 {\n",
              "  background-color: #d55042;\n",
              "  color: #f1f1f1;\n",
              "}\n",
              "#T_68283_row1_col2, #T_68283_row2_col1 {\n",
              "  background-color: #6c8ff1;\n",
              "  color: #f1f1f1;\n",
              "}\n",
              "#T_68283_row1_col3, #T_68283_row3_col1 {\n",
              "  background-color: #b3cdfb;\n",
              "  color: #000000;\n",
              "}\n",
              "#T_68283_row1_col4, #T_68283_row4_col1, #T_68283_row4_col8, #T_68283_row8_col4 {\n",
              "  background-color: #85a8fc;\n",
              "  color: #f1f1f1;\n",
              "}\n",
              "#T_68283_row1_col7, #T_68283_row3_col8, #T_68283_row7_col1, #T_68283_row8_col3 {\n",
              "  background-color: #93b5fe;\n",
              "  color: #000000;\n",
              "}\n",
              "#T_68283_row1_col8, #T_68283_row2_col5, #T_68283_row5_col2, #T_68283_row8_col1 {\n",
              "  background-color: #80a3fa;\n",
              "  color: #f1f1f1;\n",
              "}\n",
              "#T_68283_row1_col9, #T_68283_row9_col1 {\n",
              "  background-color: #e8d6cc;\n",
              "  color: #000000;\n",
              "}\n",
              "#T_68283_row1_col10, #T_68283_row10_col1 {\n",
              "  background-color: #a9c6fd;\n",
              "  color: #000000;\n",
              "}\n",
              "#T_68283_row1_col11, #T_68283_row11_col1 {\n",
              "  background-color: #f2c9b4;\n",
              "  color: #000000;\n",
              "}\n",
              "#T_68283_row2_col3, #T_68283_row3_col2 {\n",
              "  background-color: #6384eb;\n",
              "  color: #f1f1f1;\n",
              "}\n",
              "#T_68283_row2_col4, #T_68283_row4_col2 {\n",
              "  background-color: #3b4cc0;\n",
              "  color: #f1f1f1;\n",
              "}\n",
              "#T_68283_row2_col6, #T_68283_row6_col2 {\n",
              "  background-color: #cfdaea;\n",
              "  color: #000000;\n",
              "}\n",
              "#T_68283_row2_col8, #T_68283_row5_col6, #T_68283_row6_col5, #T_68283_row8_col2 {\n",
              "  background-color: #89acfd;\n",
              "  color: #000000;\n",
              "}\n",
              "#T_68283_row2_col9, #T_68283_row9_col2 {\n",
              "  background-color: #e26952;\n",
              "  color: #f1f1f1;\n",
              "}\n",
              "#T_68283_row2_col11, #T_68283_row11_col2 {\n",
              "  background-color: #da5a49;\n",
              "  color: #f1f1f1;\n",
              "}\n",
              "#T_68283_row3_col5, #T_68283_row4_col5, #T_68283_row5_col3, #T_68283_row5_col4 {\n",
              "  background-color: #7ea1fa;\n",
              "  color: #f1f1f1;\n",
              "}\n",
              "#T_68283_row3_col6, #T_68283_row6_col3 {\n",
              "  background-color: #b50927;\n",
              "  color: #f1f1f1;\n",
              "}\n",
              "#T_68283_row3_col7, #T_68283_row7_col3 {\n",
              "  background-color: #a3c2fe;\n",
              "  color: #000000;\n",
              "}\n",
              "#T_68283_row3_col9, #T_68283_row9_col3 {\n",
              "  background-color: #dedcdb;\n",
              "  color: #000000;\n",
              "}\n",
              "#T_68283_row3_col10, #T_68283_row8_col10, #T_68283_row10_col3, #T_68283_row10_col8 {\n",
              "  background-color: #adc9fd;\n",
              "  color: #000000;\n",
              "}\n",
              "#T_68283_row3_col11, #T_68283_row11_col3 {\n",
              "  background-color: #ecd3c5;\n",
              "  color: #000000;\n",
              "}\n",
              "#T_68283_row4_col6, #T_68283_row6_col4 {\n",
              "  background-color: #abc8fd;\n",
              "  color: #000000;\n",
              "}\n",
              "#T_68283_row4_col7, #T_68283_row7_col4 {\n",
              "  background-color: #e36c55;\n",
              "  color: #f1f1f1;\n",
              "}\n",
              "#T_68283_row4_col9, #T_68283_row9_col4 {\n",
              "  background-color: #d6dce4;\n",
              "  color: #000000;\n",
              "}\n",
              "#T_68283_row4_col11, #T_68283_row11_col4 {\n",
              "  background-color: #d8dce2;\n",
              "  color: #000000;\n",
              "}\n",
              "#T_68283_row6_col7, #T_68283_row7_col6 {\n",
              "  background-color: #c5d6f2;\n",
              "  color: #000000;\n",
              "}\n",
              "#T_68283_row6_col9, #T_68283_row9_col6 {\n",
              "  background-color: #c0d4f5;\n",
              "  color: #000000;\n",
              "}\n",
              "#T_68283_row6_col10, #T_68283_row10_col6 {\n",
              "  background-color: #f4c5ad;\n",
              "  color: #000000;\n",
              "}\n",
              "#T_68283_row6_col11, #T_68283_row7_col11, #T_68283_row11_col6, #T_68283_row11_col7 {\n",
              "  background-color: #b7cff9;\n",
              "  color: #000000;\n",
              "}\n",
              "#T_68283_row7_col9, #T_68283_row9_col7 {\n",
              "  background-color: #d4dbe6;\n",
              "  color: #000000;\n",
              "}\n",
              "#T_68283_row7_col10, #T_68283_row10_col7 {\n",
              "  background-color: #ebd3c6;\n",
              "  color: #000000;\n",
              "}\n",
              "#T_68283_row8_col9, #T_68283_row9_col8 {\n",
              "  background-color: #ccd9ed;\n",
              "  color: #000000;\n",
              "}\n",
              "#T_68283_row8_col11, #T_68283_row11_col8 {\n",
              "  background-color: #cad8ef;\n",
              "  color: #000000;\n",
              "}\n",
              "#T_68283_row9_col10, #T_68283_row10_col9 {\n",
              "  background-color: #cc403a;\n",
              "  color: #f1f1f1;\n",
              "}\n",
              "#T_68283_row9_col11, #T_68283_row11_col9 {\n",
              "  background-color: #d1493f;\n",
              "  color: #f1f1f1;\n",
              "}\n",
              "</style>\n",
              "<table id=\"T_68283_\" class=\"dataframe\">\n",
              "  <thead>\n",
              "    <tr>\n",
              "      <th class=\"blank level0\" >&nbsp;</th>\n",
              "      <th class=\"col_heading level0 col0\" >status</th>\n",
              "      <th class=\"col_heading level0 col1\" >age</th>\n",
              "      <th class=\"col_heading level0 col2\" >card_present_flag</th>\n",
              "      <th class=\"col_heading level0 col3\" >balance</th>\n",
              "      <th class=\"col_heading level0 col4\" >amount</th>\n",
              "      <th class=\"col_heading level0 col5\" >bpay_biller_code</th>\n",
              "      <th class=\"col_heading level0 col6\" >long_lat</th>\n",
              "      <th class=\"col_heading level0 col7\" >txn_description</th>\n",
              "      <th class=\"col_heading level0 col8\" >gender</th>\n",
              "      <th class=\"col_heading level0 col9\" >merchant_suburb</th>\n",
              "      <th class=\"col_heading level0 col10\" >merchant_state</th>\n",
              "      <th class=\"col_heading level0 col11\" >merchant_long_lat</th>\n",
              "      <th class=\"col_heading level0 col12\" >movement</th>\n",
              "    </tr>\n",
              "  </thead>\n",
              "  <tbody>\n",
              "    <tr>\n",
              "      <th id=\"T_68283_level0_row0\" class=\"row_heading level0 row0\" >status</th>\n",
              "      <td id=\"T_68283_row0_col0\" class=\"data row0 col0\" >1.00</td>\n",
              "      <td id=\"T_68283_row0_col1\" class=\"data row0 col1\" >0.07</td>\n",
              "      <td id=\"T_68283_row0_col2\" class=\"data row0 col2\" >0.77</td>\n",
              "      <td id=\"T_68283_row0_col3\" class=\"data row0 col3\" >0.12</td>\n",
              "      <td id=\"T_68283_row0_col4\" class=\"data row0 col4\" >0.33</td>\n",
              "      <td id=\"T_68283_row0_col5\" class=\"data row0 col5\" >0.00</td>\n",
              "      <td id=\"T_68283_row0_col6\" class=\"data row0 col6\" >0.38</td>\n",
              "      <td id=\"T_68283_row0_col7\" class=\"data row0 col7\" >1.00</td>\n",
              "      <td id=\"T_68283_row0_col8\" class=\"data row0 col8\" >0.06</td>\n",
              "      <td id=\"T_68283_row0_col9\" class=\"data row0 col9\" >0.93</td>\n",
              "      <td id=\"T_68283_row0_col10\" class=\"data row0 col10\" >1.00</td>\n",
              "      <td id=\"T_68283_row0_col11\" class=\"data row0 col11\" >0.88</td>\n",
              "      <td id=\"T_68283_row0_col12\" class=\"data row0 col12\" >0.00</td>\n",
              "    </tr>\n",
              "    <tr>\n",
              "      <th id=\"T_68283_level0_row1\" class=\"row_heading level0 row1\" >age</th>\n",
              "      <td id=\"T_68283_row1_col0\" class=\"data row1 col0\" >0.07</td>\n",
              "      <td id=\"T_68283_row1_col1\" class=\"data row1 col1\" >1.00</td>\n",
              "      <td id=\"T_68283_row1_col2\" class=\"data row1 col2\" >-0.06</td>\n",
              "      <td id=\"T_68283_row1_col3\" class=\"data row1 col3\" >0.20</td>\n",
              "      <td id=\"T_68283_row1_col4\" class=\"data row1 col4\" >0.03</td>\n",
              "      <td id=\"T_68283_row1_col5\" class=\"data row1 col5\" >0.00</td>\n",
              "      <td id=\"T_68283_row1_col6\" class=\"data row1 col6\" >1.00</td>\n",
              "      <td id=\"T_68283_row1_col7\" class=\"data row1 col7\" >0.08</td>\n",
              "      <td id=\"T_68283_row1_col8\" class=\"data row1 col8\" >0.01</td>\n",
              "      <td id=\"T_68283_row1_col9\" class=\"data row1 col9\" >0.43</td>\n",
              "      <td id=\"T_68283_row1_col10\" class=\"data row1 col10\" >0.16</td>\n",
              "      <td id=\"T_68283_row1_col11\" class=\"data row1 col11\" >0.51</td>\n",
              "      <td id=\"T_68283_row1_col12\" class=\"data row1 col12\" >0.00</td>\n",
              "    </tr>\n",
              "    <tr>\n",
              "      <th id=\"T_68283_level0_row2\" class=\"row_heading level0 row2\" >card_present_flag</th>\n",
              "      <td id=\"T_68283_row2_col0\" class=\"data row2 col0\" >0.77</td>\n",
              "      <td id=\"T_68283_row2_col1\" class=\"data row2 col1\" >-0.06</td>\n",
              "      <td id=\"T_68283_row2_col2\" class=\"data row2 col2\" >1.00</td>\n",
              "      <td id=\"T_68283_row2_col3\" class=\"data row2 col3\" >-0.09</td>\n",
              "      <td id=\"T_68283_row2_col4\" class=\"data row2 col4\" >-0.26</td>\n",
              "      <td id=\"T_68283_row2_col5\" class=\"data row2 col5\" >0.01</td>\n",
              "      <td id=\"T_68283_row2_col6\" class=\"data row2 col6\" >0.31</td>\n",
              "      <td id=\"T_68283_row2_col7\" class=\"data row2 col7\" >0.77</td>\n",
              "      <td id=\"T_68283_row2_col8\" class=\"data row2 col8\" >0.05</td>\n",
              "      <td id=\"T_68283_row2_col9\" class=\"data row2 col9\" >0.82</td>\n",
              "      <td id=\"T_68283_row2_col10\" class=\"data row2 col10\" >0.77</td>\n",
              "      <td id=\"T_68283_row2_col11\" class=\"data row2 col11\" >0.86</td>\n",
              "      <td id=\"T_68283_row2_col12\" class=\"data row2 col12\" >0.00</td>\n",
              "    </tr>\n",
              "    <tr>\n",
              "      <th id=\"T_68283_level0_row3\" class=\"row_heading level0 row3\" >balance</th>\n",
              "      <td id=\"T_68283_row3_col0\" class=\"data row3 col0\" >0.12</td>\n",
              "      <td id=\"T_68283_row3_col1\" class=\"data row3 col1\" >0.20</td>\n",
              "      <td id=\"T_68283_row3_col2\" class=\"data row3 col2\" >-0.09</td>\n",
              "      <td id=\"T_68283_row3_col3\" class=\"data row3 col3\" >1.00</td>\n",
              "      <td id=\"T_68283_row3_col4\" class=\"data row3 col4\" >0.06</td>\n",
              "      <td id=\"T_68283_row3_col5\" class=\"data row3 col5\" >0.00</td>\n",
              "      <td id=\"T_68283_row3_col6\" class=\"data row3 col6\" >0.99</td>\n",
              "      <td id=\"T_68283_row3_col7\" class=\"data row3 col7\" >0.14</td>\n",
              "      <td id=\"T_68283_row3_col8\" class=\"data row3 col8\" >0.08</td>\n",
              "      <td id=\"T_68283_row3_col9\" class=\"data row3 col9\" >0.38</td>\n",
              "      <td id=\"T_68283_row3_col10\" class=\"data row3 col10\" >0.17</td>\n",
              "      <td id=\"T_68283_row3_col11\" class=\"data row3 col11\" >0.45</td>\n",
              "      <td id=\"T_68283_row3_col12\" class=\"data row3 col12\" >0.00</td>\n",
              "    </tr>\n",
              "    <tr>\n",
              "      <th id=\"T_68283_level0_row4\" class=\"row_heading level0 row4\" >amount</th>\n",
              "      <td id=\"T_68283_row4_col0\" class=\"data row4 col0\" >0.33</td>\n",
              "      <td id=\"T_68283_row4_col1\" class=\"data row4 col1\" >0.03</td>\n",
              "      <td id=\"T_68283_row4_col2\" class=\"data row4 col2\" >-0.26</td>\n",
              "      <td id=\"T_68283_row4_col3\" class=\"data row4 col3\" >0.06</td>\n",
              "      <td id=\"T_68283_row4_col4\" class=\"data row4 col4\" >1.00</td>\n",
              "      <td id=\"T_68283_row4_col5\" class=\"data row4 col5\" >0.00</td>\n",
              "      <td id=\"T_68283_row4_col6\" class=\"data row4 col6\" >0.17</td>\n",
              "      <td id=\"T_68283_row4_col7\" class=\"data row4 col7\" >0.81</td>\n",
              "      <td id=\"T_68283_row4_col8\" class=\"data row4 col8\" >0.03</td>\n",
              "      <td id=\"T_68283_row4_col9\" class=\"data row4 col9\" >0.34</td>\n",
              "      <td id=\"T_68283_row4_col10\" class=\"data row4 col10\" >0.33</td>\n",
              "      <td id=\"T_68283_row4_col11\" class=\"data row4 col11\" >0.35</td>\n",
              "      <td id=\"T_68283_row4_col12\" class=\"data row4 col12\" >0.00</td>\n",
              "    </tr>\n",
              "    <tr>\n",
              "      <th id=\"T_68283_level0_row5\" class=\"row_heading level0 row5\" >bpay_biller_code</th>\n",
              "      <td id=\"T_68283_row5_col0\" class=\"data row5 col0\" >0.00</td>\n",
              "      <td id=\"T_68283_row5_col1\" class=\"data row5 col1\" >0.00</td>\n",
              "      <td id=\"T_68283_row5_col2\" class=\"data row5 col2\" >0.01</td>\n",
              "      <td id=\"T_68283_row5_col3\" class=\"data row5 col3\" >0.00</td>\n",
              "      <td id=\"T_68283_row5_col4\" class=\"data row5 col4\" >0.00</td>\n",
              "      <td id=\"T_68283_row5_col5\" class=\"data row5 col5\" >1.00</td>\n",
              "      <td id=\"T_68283_row5_col6\" class=\"data row5 col6\" >0.05</td>\n",
              "      <td id=\"T_68283_row5_col7\" class=\"data row5 col7\" >0.00</td>\n",
              "      <td id=\"T_68283_row5_col8\" class=\"data row5 col8\" >0.00</td>\n",
              "      <td id=\"T_68283_row5_col9\" class=\"data row5 col9\" >0.00</td>\n",
              "      <td id=\"T_68283_row5_col10\" class=\"data row5 col10\" >0.00</td>\n",
              "      <td id=\"T_68283_row5_col11\" class=\"data row5 col11\" >0.00</td>\n",
              "      <td id=\"T_68283_row5_col12\" class=\"data row5 col12\" >0.00</td>\n",
              "    </tr>\n",
              "    <tr>\n",
              "      <th id=\"T_68283_level0_row6\" class=\"row_heading level0 row6\" >long_lat</th>\n",
              "      <td id=\"T_68283_row6_col0\" class=\"data row6 col0\" >0.38</td>\n",
              "      <td id=\"T_68283_row6_col1\" class=\"data row6 col1\" >1.00</td>\n",
              "      <td id=\"T_68283_row6_col2\" class=\"data row6 col2\" >0.31</td>\n",
              "      <td id=\"T_68283_row6_col3\" class=\"data row6 col3\" >0.99</td>\n",
              "      <td id=\"T_68283_row6_col4\" class=\"data row6 col4\" >0.17</td>\n",
              "      <td id=\"T_68283_row6_col5\" class=\"data row6 col5\" >0.05</td>\n",
              "      <td id=\"T_68283_row6_col6\" class=\"data row6 col6\" >1.00</td>\n",
              "      <td id=\"T_68283_row6_col7\" class=\"data row6 col7\" >0.27</td>\n",
              "      <td id=\"T_68283_row6_col8\" class=\"data row6 col8\" >1.00</td>\n",
              "      <td id=\"T_68283_row6_col9\" class=\"data row6 col9\" >0.25</td>\n",
              "      <td id=\"T_68283_row6_col10\" class=\"data row6 col10\" >0.53</td>\n",
              "      <td id=\"T_68283_row6_col11\" class=\"data row6 col11\" >0.21</td>\n",
              "      <td id=\"T_68283_row6_col12\" class=\"data row6 col12\" >0.00</td>\n",
              "    </tr>\n",
              "    <tr>\n",
              "      <th id=\"T_68283_level0_row7\" class=\"row_heading level0 row7\" >txn_description</th>\n",
              "      <td id=\"T_68283_row7_col0\" class=\"data row7 col0\" >1.00</td>\n",
              "      <td id=\"T_68283_row7_col1\" class=\"data row7 col1\" >0.08</td>\n",
              "      <td id=\"T_68283_row7_col2\" class=\"data row7 col2\" >0.77</td>\n",
              "      <td id=\"T_68283_row7_col3\" class=\"data row7 col3\" >0.14</td>\n",
              "      <td id=\"T_68283_row7_col4\" class=\"data row7 col4\" >0.81</td>\n",
              "      <td id=\"T_68283_row7_col5\" class=\"data row7 col5\" >0.00</td>\n",
              "      <td id=\"T_68283_row7_col6\" class=\"data row7 col6\" >0.27</td>\n",
              "      <td id=\"T_68283_row7_col7\" class=\"data row7 col7\" >1.00</td>\n",
              "      <td id=\"T_68283_row7_col8\" class=\"data row7 col8\" >0.07</td>\n",
              "      <td id=\"T_68283_row7_col9\" class=\"data row7 col9\" >0.33</td>\n",
              "      <td id=\"T_68283_row7_col10\" class=\"data row7 col10\" >0.45</td>\n",
              "      <td id=\"T_68283_row7_col11\" class=\"data row7 col11\" >0.21</td>\n",
              "      <td id=\"T_68283_row7_col12\" class=\"data row7 col12\" >0.00</td>\n",
              "    </tr>\n",
              "    <tr>\n",
              "      <th id=\"T_68283_level0_row8\" class=\"row_heading level0 row8\" >gender</th>\n",
              "      <td id=\"T_68283_row8_col0\" class=\"data row8 col0\" >0.06</td>\n",
              "      <td id=\"T_68283_row8_col1\" class=\"data row8 col1\" >0.01</td>\n",
              "      <td id=\"T_68283_row8_col2\" class=\"data row8 col2\" >0.05</td>\n",
              "      <td id=\"T_68283_row8_col3\" class=\"data row8 col3\" >0.08</td>\n",
              "      <td id=\"T_68283_row8_col4\" class=\"data row8 col4\" >0.03</td>\n",
              "      <td id=\"T_68283_row8_col5\" class=\"data row8 col5\" >0.00</td>\n",
              "      <td id=\"T_68283_row8_col6\" class=\"data row8 col6\" >1.00</td>\n",
              "      <td id=\"T_68283_row8_col7\" class=\"data row8 col7\" >0.07</td>\n",
              "      <td id=\"T_68283_row8_col8\" class=\"data row8 col8\" >1.00</td>\n",
              "      <td id=\"T_68283_row8_col9\" class=\"data row8 col9\" >0.29</td>\n",
              "      <td id=\"T_68283_row8_col10\" class=\"data row8 col10\" >0.17</td>\n",
              "      <td id=\"T_68283_row8_col11\" class=\"data row8 col11\" >0.28</td>\n",
              "      <td id=\"T_68283_row8_col12\" class=\"data row8 col12\" >0.00</td>\n",
              "    </tr>\n",
              "    <tr>\n",
              "      <th id=\"T_68283_level0_row9\" class=\"row_heading level0 row9\" >merchant_suburb</th>\n",
              "      <td id=\"T_68283_row9_col0\" class=\"data row9 col0\" >0.93</td>\n",
              "      <td id=\"T_68283_row9_col1\" class=\"data row9 col1\" >0.43</td>\n",
              "      <td id=\"T_68283_row9_col2\" class=\"data row9 col2\" >0.82</td>\n",
              "      <td id=\"T_68283_row9_col3\" class=\"data row9 col3\" >0.38</td>\n",
              "      <td id=\"T_68283_row9_col4\" class=\"data row9 col4\" >0.34</td>\n",
              "      <td id=\"T_68283_row9_col5\" class=\"data row9 col5\" >0.00</td>\n",
              "      <td id=\"T_68283_row9_col6\" class=\"data row9 col6\" >0.25</td>\n",
              "      <td id=\"T_68283_row9_col7\" class=\"data row9 col7\" >0.33</td>\n",
              "      <td id=\"T_68283_row9_col8\" class=\"data row9 col8\" >0.29</td>\n",
              "      <td id=\"T_68283_row9_col9\" class=\"data row9 col9\" >1.00</td>\n",
              "      <td id=\"T_68283_row9_col10\" class=\"data row9 col10\" >0.91</td>\n",
              "      <td id=\"T_68283_row9_col11\" class=\"data row9 col11\" >0.89</td>\n",
              "      <td id=\"T_68283_row9_col12\" class=\"data row9 col12\" >0.00</td>\n",
              "    </tr>\n",
              "    <tr>\n",
              "      <th id=\"T_68283_level0_row10\" class=\"row_heading level0 row10\" >merchant_state</th>\n",
              "      <td id=\"T_68283_row10_col0\" class=\"data row10 col0\" >1.00</td>\n",
              "      <td id=\"T_68283_row10_col1\" class=\"data row10 col1\" >0.16</td>\n",
              "      <td id=\"T_68283_row10_col2\" class=\"data row10 col2\" >0.77</td>\n",
              "      <td id=\"T_68283_row10_col3\" class=\"data row10 col3\" >0.17</td>\n",
              "      <td id=\"T_68283_row10_col4\" class=\"data row10 col4\" >0.33</td>\n",
              "      <td id=\"T_68283_row10_col5\" class=\"data row10 col5\" >0.00</td>\n",
              "      <td id=\"T_68283_row10_col6\" class=\"data row10 col6\" >0.53</td>\n",
              "      <td id=\"T_68283_row10_col7\" class=\"data row10 col7\" >0.45</td>\n",
              "      <td id=\"T_68283_row10_col8\" class=\"data row10 col8\" >0.17</td>\n",
              "      <td id=\"T_68283_row10_col9\" class=\"data row10 col9\" >0.91</td>\n",
              "      <td id=\"T_68283_row10_col10\" class=\"data row10 col10\" >1.00</td>\n",
              "      <td id=\"T_68283_row10_col11\" class=\"data row10 col11\" >0.88</td>\n",
              "      <td id=\"T_68283_row10_col12\" class=\"data row10 col12\" >0.00</td>\n",
              "    </tr>\n",
              "    <tr>\n",
              "      <th id=\"T_68283_level0_row11\" class=\"row_heading level0 row11\" >merchant_long_lat</th>\n",
              "      <td id=\"T_68283_row11_col0\" class=\"data row11 col0\" >0.88</td>\n",
              "      <td id=\"T_68283_row11_col1\" class=\"data row11 col1\" >0.51</td>\n",
              "      <td id=\"T_68283_row11_col2\" class=\"data row11 col2\" >0.86</td>\n",
              "      <td id=\"T_68283_row11_col3\" class=\"data row11 col3\" >0.45</td>\n",
              "      <td id=\"T_68283_row11_col4\" class=\"data row11 col4\" >0.35</td>\n",
              "      <td id=\"T_68283_row11_col5\" class=\"data row11 col5\" >0.00</td>\n",
              "      <td id=\"T_68283_row11_col6\" class=\"data row11 col6\" >0.21</td>\n",
              "      <td id=\"T_68283_row11_col7\" class=\"data row11 col7\" >0.21</td>\n",
              "      <td id=\"T_68283_row11_col8\" class=\"data row11 col8\" >0.28</td>\n",
              "      <td id=\"T_68283_row11_col9\" class=\"data row11 col9\" >0.89</td>\n",
              "      <td id=\"T_68283_row11_col10\" class=\"data row11 col10\" >0.88</td>\n",
              "      <td id=\"T_68283_row11_col11\" class=\"data row11 col11\" >1.00</td>\n",
              "      <td id=\"T_68283_row11_col12\" class=\"data row11 col12\" >0.00</td>\n",
              "    </tr>\n",
              "    <tr>\n",
              "      <th id=\"T_68283_level0_row12\" class=\"row_heading level0 row12\" >movement</th>\n",
              "      <td id=\"T_68283_row12_col0\" class=\"data row12 col0\" >0.00</td>\n",
              "      <td id=\"T_68283_row12_col1\" class=\"data row12 col1\" >0.00</td>\n",
              "      <td id=\"T_68283_row12_col2\" class=\"data row12 col2\" >0.00</td>\n",
              "      <td id=\"T_68283_row12_col3\" class=\"data row12 col3\" >0.00</td>\n",
              "      <td id=\"T_68283_row12_col4\" class=\"data row12 col4\" >0.00</td>\n",
              "      <td id=\"T_68283_row12_col5\" class=\"data row12 col5\" >0.00</td>\n",
              "      <td id=\"T_68283_row12_col6\" class=\"data row12 col6\" >0.00</td>\n",
              "      <td id=\"T_68283_row12_col7\" class=\"data row12 col7\" >0.00</td>\n",
              "      <td id=\"T_68283_row12_col8\" class=\"data row12 col8\" >0.00</td>\n",
              "      <td id=\"T_68283_row12_col9\" class=\"data row12 col9\" >0.00</td>\n",
              "      <td id=\"T_68283_row12_col10\" class=\"data row12 col10\" >0.00</td>\n",
              "      <td id=\"T_68283_row12_col11\" class=\"data row12 col11\" >0.00</td>\n",
              "      <td id=\"T_68283_row12_col12\" class=\"data row12 col12\" >0.00</td>\n",
              "    </tr>\n",
              "  </tbody>\n",
              "</table>\n"
            ]
          },
          "metadata": {},
          "execution_count": 145
        }
      ]
    },
    {
      "cell_type": "markdown",
      "source": [
        "From the above heatmaps, we can see that most of the features aren't well related, "
      ],
      "metadata": {
        "id": "Lzq4irW6jfQq"
      }
    },
    {
      "cell_type": "code",
      "source": [
        "import scipy.stats as ss\n",
        "import math\n",
        "from collections import Counter\n",
        "def conditional_entropy(x,y):\n",
        "    # entropy of x given y\n",
        "    y_counter = Counter(y)\n",
        "    xy_counter = Counter(list(zip(x,y)))\n",
        "    total_occurrences = sum(y_counter.values())\n",
        "    entropy = 0\n",
        "    for xy in xy_counter.keys():\n",
        "        p_xy = xy_counter[xy] / total_occurrences\n",
        "        p_y = y_counter[xy[1]] / total_occurrences\n",
        "        entropy += p_xy * math.log(p_y/p_xy)\n",
        "    return entropy\n",
        "\n",
        "def theils_u(x, y):\n",
        "    s_xy = conditional_entropy(x,y)\n",
        "    x_counter = Counter(x)\n",
        "    total_occurrences = sum(x_counter.values())\n",
        "    p_x = list(map(lambda n: n/total_occurrences, x_counter.values()))\n",
        "    s_x = ss.entropy(p_x)\n",
        "    if s_x == 0:\n",
        "        return 1\n",
        "    else:\n",
        "        return (s_x - s_xy) / s_x"
      ],
      "metadata": {
        "id": "cd6fqjy7h9nb"
      },
      "execution_count": 146,
      "outputs": []
    },
    {
      "cell_type": "code",
      "source": [
        "theilu = pd.DataFrame(index=['status'],columns=correlatable_features.columns)\n",
        "columns = correlatable_features.columns\n",
        "for j in range(0,len(columns)):\n",
        "    u = theils_u(correlatable_features['status'].tolist(),correlatable_features[columns[j]].tolist())\n",
        "    theilu.loc[:,columns[j]] = u\n",
        "theilu.fillna(value=np.nan,inplace=True)\n",
        "plt.figure(figsize=(20,1))\n",
        "sns.heatmap(theilu,annot=True,fmt='.2f')\n",
        "plt.show()"
      ],
      "metadata": {
        "colab": {
          "base_uri": "https://localhost:8080/",
          "height": 189
        },
        "id": "fZwcAAeCij0c",
        "outputId": "8e9448de-aa05-450b-918b-8992fee190de"
      },
      "execution_count": 147,
      "outputs": [
        {
          "output_type": "display_data",
          "data": {
            "text/plain": [
              "<Figure size 1440x72 with 2 Axes>"
            ],
            "image/png": "[encoded data removed]"
          },
          "metadata": {
            "needs_background": "light"
          }
        }
      ]
    },
    {
      "cell_type": "code",
      "source": [
        "#Finding the Salary for all the customers\n",
        "salary=anz_df[anz_df[\"txn_description\"]==\"PAY/SALARY\"].groupby(\"customer_id\").mean().reset_index()\n",
        "salary=salary[[\"customer_id\",\"amount\"]]\n",
        "salary=salary.rename(columns = {'amount':'salary'})"
      ],
      "metadata": {
        "id": "whIkto5x4vxx"
      },
      "execution_count": 148,
      "outputs": []
    },
    {
      "cell_type": "code",
      "source": [
        "salary.head()"
      ],
      "metadata": {
        "colab": {
          "base_uri": "https://localhost:8080/",
          "height": 206
        },
        "id": "7rj7iffE5OJv",
        "outputId": "32bcd95a-ee26-409d-b885-e620c7012a6d"
      },
      "execution_count": 149,
      "outputs": [
        {
          "output_type": "execute_result",
          "data": {
            "text/plain": [
              "      customer_id   salary\n",
              "0  CUS-1005756958   970.47\n",
              "1  CUS-1117979751  3578.65\n",
              "2  CUS-1140341822  1916.51\n",
              "3  CUS-1147642491  1711.39\n",
              "4  CUS-1196156254  3903.73"
            ],
            "text/html": [
              "\n",
              "  <div id=\"df-41546522-7d94-411b-8821-2bfcf4fdb081\">\n",
              "    <div class=\"colab-df-container\">\n",
              "      <div>\n",
              "<style scoped>\n",
              "    .dataframe tbody tr th:only-of-type {\n",
              "        vertical-align: middle;\n",
              "    }\n",
              "\n",
              "    .dataframe tbody tr th {\n",
              "        vertical-align: top;\n",
              "    }\n",
              "\n",
              "    .dataframe thead th {\n",
              "        text-align: right;\n",
              "    }\n",
              "</style>\n",
              "<table border=\"1\" class=\"dataframe\">\n",
              "  <thead>\n",
              "    <tr style=\"text-align: right;\">\n",
              "      <th></th>\n",
              "      <th>customer_id</th>\n",
              "      <th>salary</th>\n",
              "    </tr>\n",
              "  </thead>\n",
              "  <tbody>\n",
              "    <tr>\n",
              "      <th>0</th>\n",
              "      <td>CUS-1005756958</td>\n",
              "      <td>970.47</td>\n",
              "    </tr>\n",
              "    <tr>\n",
              "      <th>1</th>\n",
              "      <td>CUS-1117979751</td>\n",
              "      <td>3578.65</td>\n",
              "    </tr>\n",
              "    <tr>\n",
              "      <th>2</th>\n",
              "      <td>CUS-1140341822</td>\n",
              "      <td>1916.51</td>\n",
              "    </tr>\n",
              "    <tr>\n",
              "      <th>3</th>\n",
              "      <td>CUS-1147642491</td>\n",
              "      <td>1711.39</td>\n",
              "    </tr>\n",
              "    <tr>\n",
              "      <th>4</th>\n",
              "      <td>CUS-1196156254</td>\n",
              "      <td>3903.73</td>\n",
              "    </tr>\n",
              "  </tbody>\n",
              "</table>\n",
              "</div>\n",
              "      <button class=\"colab-df-convert\" onclick=\"convertToInteractive('df-41546522-7d94-411b-8821-2bfcf4fdb081')\"\n",
              "              title=\"Convert this dataframe to an interactive table.\"\n",
              "              style=\"display:none;\">\n",
              "        \n",
              "  <svg xmlns=\"http://www.w3.org/2000/svg\" height=\"24px\"viewBox=\"0 0 24 24\"\n",
              "       width=\"24px\">\n",
              "    <path d=\"M0 0h24v24H0V0z\" fill=\"none\"/>\n",
              "    <path d=\"M18.56 5.44l.94 2.06.94-2.06 2.06-.94-2.06-.94-.94-2.06-.94 2.06-2.06.94zm-11 1L8.5 8.5l.94-2.06 2.06-.94-2.06-.94L8.5 2.5l-.94 2.06-2.06.94zm10 10l.94 2.06.94-2.06 2.06-.94-2.06-.94-.94-2.06-.94 2.06-2.06.94z\"/><path d=\"M17.41 7.96l-1.37-1.37c-.4-.4-.92-.59-1.43-.59-.52 0-1.04.2-1.43.59L10.3 9.45l-7.72 7.72c-.78.78-.78 2.05 0 2.83L4 21.41c.39.39.9.59 1.41.59.51 0 1.02-.2 1.41-.59l7.78-7.78 2.81-2.81c.8-.78.8-2.07 0-2.86zM5.41 20L4 18.59l7.72-7.72 1.47 1.35L5.41 20z\"/>\n",
              "  </svg>\n",
              "      </button>\n",
              "      \n",
              "  <style>\n",
              "    .colab-df-container {\n",
              "      display:flex;\n",
              "      flex-wrap:wrap;\n",
              "      gap: 12px;\n",
              "    }\n",
              "\n",
              "    .colab-df-convert {\n",
              "      background-color: #E8F0FE;\n",
              "      border: none;\n",
              "      border-radius: 50%;\n",
              "      cursor: pointer;\n",
              "      display: none;\n",
              "      fill: #1967D2;\n",
              "      height: 32px;\n",
              "      padding: 0 0 0 0;\n",
              "      width: 32px;\n",
              "    }\n",
              "\n",
              "    .colab-df-convert:hover {\n",
              "      background-color: #E2EBFA;\n",
              "      box-shadow: 0px 1px 2px rgba(60, 64, 67, 0.3), 0px 1px 3px 1px rgba(60, 64, 67, 0.15);\n",
              "      fill: #174EA6;\n",
              "    }\n",
              "\n",
              "    [theme=dark] .colab-df-convert {\n",
              "      background-color: #3B4455;\n",
              "      fill: #D2E3FC;\n",
              "    }\n",
              "\n",
              "    [theme=dark] .colab-df-convert:hover {\n",
              "      background-color: #434B5C;\n",
              "      box-shadow: 0px 1px 3px 1px rgba(0, 0, 0, 0.15);\n",
              "      filter: drop-shadow(0px 1px 2px rgba(0, 0, 0, 0.3));\n",
              "      fill: #FFFFFF;\n",
              "    }\n",
              "  </style>\n",
              "\n",
              "      <script>\n",
              "        const buttonEl =\n",
              "          document.querySelector('#df-41546522-7d94-411b-8821-2bfcf4fdb081 button.colab-df-convert');\n",
              "        buttonEl.style.display =\n",
              "          google.colab.kernel.accessAllowed ? 'block' : 'none';\n",
              "\n",
              "        async function convertToInteractive(key) {\n",
              "          const element = document.querySelector('#df-41546522-7d94-411b-8821-2bfcf4fdb081');\n",
              "          const dataTable =\n",
              "            await google.colab.kernel.invokeFunction('convertToInteractive',\n",
              "                                                     [key], {});\n",
              "          if (!dataTable) return;\n",
              "\n",
              "          const docLinkHtml = 'Like what you see? Visit the ' +\n",
              "            '<a target=\"_blank\" href=https://colab.research.google.com/notebooks/data_table.ipynb>data table notebook</a>'\n",
              "            + ' to learn more about interactive tables.';\n",
              "          element.innerHTML = '';\n",
              "          dataTable['output_type'] = 'display_data';\n",
              "          await google.colab.output.renderOutput(dataTable, element);\n",
              "          const docLink = document.createElement('div');\n",
              "          docLink.innerHTML = docLinkHtml;\n",
              "          element.appendChild(docLink);\n",
              "        }\n",
              "      </script>\n",
              "    </div>\n",
              "  </div>\n",
              "  "
            ]
          },
          "metadata": {},
          "execution_count": 149
        }
      ]
    },
    {
      "cell_type": "markdown",
      "source": [
        "### **Creating new features**"
      ],
      "metadata": {
        "id": "Q6ntPt5P5cWX"
      }
    },
    {
      "cell_type": "code",
      "source": [
        "#POS indicates transaction made at any business or such, thus it reflects spending behaviour of customer\n",
        "pos=anz_df[anz_df[\"txn_description\"]==(\"POS\"or\"SALES-POS\")].groupby(\"customer_id\").median().reset_index()\n",
        "pos=pos[[\"customer_id\",\"amount\"]]\n",
        "pos=pos.rename(columns = {'amount':'pos'})"
      ],
      "metadata": {
        "id": "T4sHLywi5Qwk"
      },
      "execution_count": 150,
      "outputs": []
    },
    {
      "cell_type": "code",
      "source": [
        "pos.head()"
      ],
      "metadata": {
        "colab": {
          "base_uri": "https://localhost:8080/",
          "height": 206
        },
        "id": "jppHH-cz5nOS",
        "outputId": "b8fb0870-ef43-4e0a-f2ef-c0993d658520"
      },
      "execution_count": 151,
      "outputs": [
        {
          "output_type": "execute_result",
          "data": {
            "text/plain": [
              "      customer_id     pos\n",
              "0  CUS-1005756958  21.290\n",
              "1  CUS-1117979751  20.305\n",
              "2  CUS-1140341822  18.940\n",
              "3  CUS-1147642491  38.075\n",
              "4  CUS-1196156254  21.955"
            ],
            "text/html": [
              "\n",
              "  <div id=\"df-30f93a3e-c8bb-4534-bfcd-ef75f7ddd1bd\">\n",
              "    <div class=\"colab-df-container\">\n",
              "      <div>\n",
              "<style scoped>\n",
              "    .dataframe tbody tr th:only-of-type {\n",
              "        vertical-align: middle;\n",
              "    }\n",
              "\n",
              "    .dataframe tbody tr th {\n",
              "        vertical-align: top;\n",
              "    }\n",
              "\n",
              "    .dataframe thead th {\n",
              "        text-align: right;\n",
              "    }\n",
              "</style>\n",
              "<table border=\"1\" class=\"dataframe\">\n",
              "  <thead>\n",
              "    <tr style=\"text-align: right;\">\n",
              "      <th></th>\n",
              "      <th>customer_id</th>\n",
              "      <th>pos</th>\n",
              "    </tr>\n",
              "  </thead>\n",
              "  <tbody>\n",
              "    <tr>\n",
              "      <th>0</th>\n",
              "      <td>CUS-1005756958</td>\n",
              "      <td>21.290</td>\n",
              "    </tr>\n",
              "    <tr>\n",
              "      <th>1</th>\n",
              "      <td>CUS-1117979751</td>\n",
              "      <td>20.305</td>\n",
              "    </tr>\n",
              "    <tr>\n",
              "      <th>2</th>\n",
              "      <td>CUS-1140341822</td>\n",
              "      <td>18.940</td>\n",
              "    </tr>\n",
              "    <tr>\n",
              "      <th>3</th>\n",
              "      <td>CUS-1147642491</td>\n",
              "      <td>38.075</td>\n",
              "    </tr>\n",
              "    <tr>\n",
              "      <th>4</th>\n",
              "      <td>CUS-1196156254</td>\n",
              "      <td>21.955</td>\n",
              "    </tr>\n",
              "  </tbody>\n",
              "</table>\n",
              "</div>\n",
              "      <button class=\"colab-df-convert\" onclick=\"convertToInteractive('df-30f93a3e-c8bb-4534-bfcd-ef75f7ddd1bd')\"\n",
              "              title=\"Convert this dataframe to an interactive table.\"\n",
              "              style=\"display:none;\">\n",
              "        \n",
              "  <svg xmlns=\"http://www.w3.org/2000/svg\" height=\"24px\"viewBox=\"0 0 24 24\"\n",
              "       width=\"24px\">\n",
              "    <path d=\"M0 0h24v24H0V0z\" fill=\"none\"/>\n",
              "    <path d=\"M18.56 5.44l.94 2.06.94-2.06 2.06-.94-2.06-.94-.94-2.06-.94 2.06-2.06.94zm-11 1L8.5 8.5l.94-2.06 2.06-.94-2.06-.94L8.5 2.5l-.94 2.06-2.06.94zm10 10l.94 2.06.94-2.06 2.06-.94-2.06-.94-.94-2.06-.94 2.06-2.06.94z\"/><path d=\"M17.41 7.96l-1.37-1.37c-.4-.4-.92-.59-1.43-.59-.52 0-1.04.2-1.43.59L10.3 9.45l-7.72 7.72c-.78.78-.78 2.05 0 2.83L4 21.41c.39.39.9.59 1.41.59.51 0 1.02-.2 1.41-.59l7.78-7.78 2.81-2.81c.8-.78.8-2.07 0-2.86zM5.41 20L4 18.59l7.72-7.72 1.47 1.35L5.41 20z\"/>\n",
              "  </svg>\n",
              "      </button>\n",
              "      \n",
              "  <style>\n",
              "    .colab-df-container {\n",
              "      display:flex;\n",
              "      flex-wrap:wrap;\n",
              "      gap: 12px;\n",
              "    }\n",
              "\n",
              "    .colab-df-convert {\n",
              "      background-color: #E8F0FE;\n",
              "      border: none;\n",
              "      border-radius: 50%;\n",
              "      cursor: pointer;\n",
              "      display: none;\n",
              "      fill: #1967D2;\n",
              "      height: 32px;\n",
              "      padding: 0 0 0 0;\n",
              "      width: 32px;\n",
              "    }\n",
              "\n",
              "    .colab-df-convert:hover {\n",
              "      background-color: #E2EBFA;\n",
              "      box-shadow: 0px 1px 2px rgba(60, 64, 67, 0.3), 0px 1px 3px 1px rgba(60, 64, 67, 0.15);\n",
              "      fill: #174EA6;\n",
              "    }\n",
              "\n",
              "    [theme=dark] .colab-df-convert {\n",
              "      background-color: #3B4455;\n",
              "      fill: #D2E3FC;\n",
              "    }\n",
              "\n",
              "    [theme=dark] .colab-df-convert:hover {\n",
              "      background-color: #434B5C;\n",
              "      box-shadow: 0px 1px 3px 1px rgba(0, 0, 0, 0.15);\n",
              "      filter: drop-shadow(0px 1px 2px rgba(0, 0, 0, 0.3));\n",
              "      fill: #FFFFFF;\n",
              "    }\n",
              "  </style>\n",
              "\n",
              "      <script>\n",
              "        const buttonEl =\n",
              "          document.querySelector('#df-30f93a3e-c8bb-4534-bfcd-ef75f7ddd1bd button.colab-df-convert');\n",
              "        buttonEl.style.display =\n",
              "          google.colab.kernel.accessAllowed ? 'block' : 'none';\n",
              "\n",
              "        async function convertToInteractive(key) {\n",
              "          const element = document.querySelector('#df-30f93a3e-c8bb-4534-bfcd-ef75f7ddd1bd');\n",
              "          const dataTable =\n",
              "            await google.colab.kernel.invokeFunction('convertToInteractive',\n",
              "                                                     [key], {});\n",
              "          if (!dataTable) return;\n",
              "\n",
              "          const docLinkHtml = 'Like what you see? Visit the ' +\n",
              "            '<a target=\"_blank\" href=https://colab.research.google.com/notebooks/data_table.ipynb>data table notebook</a>'\n",
              "            + ' to learn more about interactive tables.';\n",
              "          element.innerHTML = '';\n",
              "          dataTable['output_type'] = 'display_data';\n",
              "          await google.colab.output.renderOutput(dataTable, element);\n",
              "          const docLink = document.createElement('div');\n",
              "          docLink.innerHTML = docLinkHtml;\n",
              "          element.appendChild(docLink);\n",
              "        }\n",
              "      </script>\n",
              "    </div>\n",
              "  </div>\n",
              "  "
            ]
          },
          "metadata": {},
          "execution_count": 151
        }
      ]
    },
    {
      "cell_type": "code",
      "source": [
        "#Bills and payments made by customer\n",
        "payment=anz_df[anz_df[\"txn_description\"]==\"PAYMENT\"].groupby(\"customer_id\").median().reset_index()\n",
        "payment=payment[[\"customer_id\",\"amount\"]]\n",
        "payment=payment.rename(columns = {'amount':'payment'})"
      ],
      "metadata": {
        "id": "4hQf4_o-5pth"
      },
      "execution_count": 152,
      "outputs": []
    },
    {
      "cell_type": "code",
      "source": [
        "payment.head()"
      ],
      "metadata": {
        "colab": {
          "base_uri": "https://localhost:8080/",
          "height": 206
        },
        "id": "PNg0M_Nl52sU",
        "outputId": "20a45fed-1f28-4ceb-e6d1-172fe722c219"
      },
      "execution_count": 153,
      "outputs": [
        {
          "output_type": "execute_result",
          "data": {
            "text/plain": [
              "      customer_id  payment\n",
              "0  CUS-1005756958    148.0\n",
              "1  CUS-1117979751     55.0\n",
              "2  CUS-1140341822    142.0\n",
              "3  CUS-1147642491     79.0\n",
              "4  CUS-1196156254     31.0"
            ],
            "text/html": [
              "\n",
              "  <div id=\"df-92e58e14-3a6a-45c0-8676-39a52e9624d0\">\n",
              "    <div class=\"colab-df-container\">\n",
              "      <div>\n",
              "<style scoped>\n",
              "    .dataframe tbody tr th:only-of-type {\n",
              "        vertical-align: middle;\n",
              "    }\n",
              "\n",
              "    .dataframe tbody tr th {\n",
              "        vertical-align: top;\n",
              "    }\n",
              "\n",
              "    .dataframe thead th {\n",
              "        text-align: right;\n",
              "    }\n",
              "</style>\n",
              "<table border=\"1\" class=\"dataframe\">\n",
              "  <thead>\n",
              "    <tr style=\"text-align: right;\">\n",
              "      <th></th>\n",
              "      <th>customer_id</th>\n",
              "      <th>payment</th>\n",
              "    </tr>\n",
              "  </thead>\n",
              "  <tbody>\n",
              "    <tr>\n",
              "      <th>0</th>\n",
              "      <td>CUS-1005756958</td>\n",
              "      <td>148.0</td>\n",
              "    </tr>\n",
              "    <tr>\n",
              "      <th>1</th>\n",
              "      <td>CUS-1117979751</td>\n",
              "      <td>55.0</td>\n",
              "    </tr>\n",
              "    <tr>\n",
              "      <th>2</th>\n",
              "      <td>CUS-1140341822</td>\n",
              "      <td>142.0</td>\n",
              "    </tr>\n",
              "    <tr>\n",
              "      <th>3</th>\n",
              "      <td>CUS-1147642491</td>\n",
              "      <td>79.0</td>\n",
              "    </tr>\n",
              "    <tr>\n",
              "      <th>4</th>\n",
              "      <td>CUS-1196156254</td>\n",
              "      <td>31.0</td>\n",
              "    </tr>\n",
              "  </tbody>\n",
              "</table>\n",
              "</div>\n",
              "      <button class=\"colab-df-convert\" onclick=\"convertToInteractive('df-92e58e14-3a6a-45c0-8676-39a52e9624d0')\"\n",
              "              title=\"Convert this dataframe to an interactive table.\"\n",
              "              style=\"display:none;\">\n",
              "        \n",
              "  <svg xmlns=\"http://www.w3.org/2000/svg\" height=\"24px\"viewBox=\"0 0 24 24\"\n",
              "       width=\"24px\">\n",
              "    <path d=\"M0 0h24v24H0V0z\" fill=\"none\"/>\n",
              "    <path d=\"M18.56 5.44l.94 2.06.94-2.06 2.06-.94-2.06-.94-.94-2.06-.94 2.06-2.06.94zm-11 1L8.5 8.5l.94-2.06 2.06-.94-2.06-.94L8.5 2.5l-.94 2.06-2.06.94zm10 10l.94 2.06.94-2.06 2.06-.94-2.06-.94-.94-2.06-.94 2.06-2.06.94z\"/><path d=\"M17.41 7.96l-1.37-1.37c-.4-.4-.92-.59-1.43-.59-.52 0-1.04.2-1.43.59L10.3 9.45l-7.72 7.72c-.78.78-.78 2.05 0 2.83L4 21.41c.39.39.9.59 1.41.59.51 0 1.02-.2 1.41-.59l7.78-7.78 2.81-2.81c.8-.78.8-2.07 0-2.86zM5.41 20L4 18.59l7.72-7.72 1.47 1.35L5.41 20z\"/>\n",
              "  </svg>\n",
              "      </button>\n",
              "      \n",
              "  <style>\n",
              "    .colab-df-container {\n",
              "      display:flex;\n",
              "      flex-wrap:wrap;\n",
              "      gap: 12px;\n",
              "    }\n",
              "\n",
              "    .colab-df-convert {\n",
              "      background-color: #E8F0FE;\n",
              "      border: none;\n",
              "      border-radius: 50%;\n",
              "      cursor: pointer;\n",
              "      display: none;\n",
              "      fill: #1967D2;\n",
              "      height: 32px;\n",
              "      padding: 0 0 0 0;\n",
              "      width: 32px;\n",
              "    }\n",
              "\n",
              "    .colab-df-convert:hover {\n",
              "      background-color: #E2EBFA;\n",
              "      box-shadow: 0px 1px 2px rgba(60, 64, 67, 0.3), 0px 1px 3px 1px rgba(60, 64, 67, 0.15);\n",
              "      fill: #174EA6;\n",
              "    }\n",
              "\n",
              "    [theme=dark] .colab-df-convert {\n",
              "      background-color: #3B4455;\n",
              "      fill: #D2E3FC;\n",
              "    }\n",
              "\n",
              "    [theme=dark] .colab-df-convert:hover {\n",
              "      background-color: #434B5C;\n",
              "      box-shadow: 0px 1px 3px 1px rgba(0, 0, 0, 0.15);\n",
              "      filter: drop-shadow(0px 1px 2px rgba(0, 0, 0, 0.3));\n",
              "      fill: #FFFFFF;\n",
              "    }\n",
              "  </style>\n",
              "\n",
              "      <script>\n",
              "        const buttonEl =\n",
              "          document.querySelector('#df-92e58e14-3a6a-45c0-8676-39a52e9624d0 button.colab-df-convert');\n",
              "        buttonEl.style.display =\n",
              "          google.colab.kernel.accessAllowed ? 'block' : 'none';\n",
              "\n",
              "        async function convertToInteractive(key) {\n",
              "          const element = document.querySelector('#df-92e58e14-3a6a-45c0-8676-39a52e9624d0');\n",
              "          const dataTable =\n",
              "            await google.colab.kernel.invokeFunction('convertToInteractive',\n",
              "                                                     [key], {});\n",
              "          if (!dataTable) return;\n",
              "\n",
              "          const docLinkHtml = 'Like what you see? Visit the ' +\n",
              "            '<a target=\"_blank\" href=https://colab.research.google.com/notebooks/data_table.ipynb>data table notebook</a>'\n",
              "            + ' to learn more about interactive tables.';\n",
              "          element.innerHTML = '';\n",
              "          dataTable['output_type'] = 'display_data';\n",
              "          await google.colab.output.renderOutput(dataTable, element);\n",
              "          const docLink = document.createElement('div');\n",
              "          docLink.innerHTML = docLinkHtml;\n",
              "          element.appendChild(docLink);\n",
              "        }\n",
              "      </script>\n",
              "    </div>\n",
              "  </div>\n",
              "  "
            ]
          },
          "metadata": {},
          "execution_count": 153
        }
      ]
    },
    {
      "cell_type": "code",
      "source": [
        "#interbank, bank to bank transfer made by the customer\n",
        "inter_bank=anz_df[anz_df[\"txn_description\"]==\"INTER BANK\"].groupby(\"customer_id\").median().reset_index()\n",
        "inter_bank=inter_bank[[\"customer_id\",\"amount\"]]\n",
        "inter_bank=inter_bank.rename(columns = {'amount':'interbank'})"
      ],
      "metadata": {
        "id": "H2Q8wwsi52zY"
      },
      "execution_count": 154,
      "outputs": []
    },
    {
      "cell_type": "code",
      "source": [
        "len(inter_bank)"
      ],
      "metadata": {
        "colab": {
          "base_uri": "https://localhost:8080/"
        },
        "id": "qEJax2106lWi",
        "outputId": "65f42835-580e-492a-d494-0fae48dd0cf3"
      },
      "execution_count": 155,
      "outputs": [
        {
          "output_type": "execute_result",
          "data": {
            "text/plain": [
              "68"
            ]
          },
          "metadata": {},
          "execution_count": 155
        }
      ]
    },
    {
      "cell_type": "code",
      "source": [
        "#Banking via phone/online pay\n",
        "phonebank=anz_df[anz_df[\"txn_description\"]=='PHONE BANK'].groupby(\"customer_id\").median().reset_index()\n",
        "phonebank=phonebank[[\"customer_id\",\"amount\"]]\n",
        "phonebank=phonebank.rename(columns = {'amount':'phonebank'})"
      ],
      "metadata": {
        "id": "_E_r8GAW6q9_"
      },
      "execution_count": 156,
      "outputs": []
    },
    {
      "cell_type": "code",
      "source": [
        "phonebank"
      ],
      "metadata": {
        "colab": {
          "base_uri": "https://localhost:8080/",
          "height": 551
        },
        "id": "PiV1NMfj63F_",
        "outputId": "47e7b78c-30e9-4c6a-9c77-0bc2d6bd1078"
      },
      "execution_count": 157,
      "outputs": [
        {
          "output_type": "execute_result",
          "data": {
            "text/plain": [
              "       customer_id  phonebank\n",
              "0   CUS-1005756958      182.0\n",
              "1   CUS-1646183815      150.0\n",
              "2   CUS-1896554896     1916.0\n",
              "3   CUS-2155701614       82.0\n",
              "4   CUS-2348881191     1629.0\n",
              "5   CUS-2376382098      177.0\n",
              "6    CUS-261674136       43.0\n",
              "7   CUS-3151318058       36.0\n",
              "8   CUS-3180318393       67.0\n",
              "9    CUS-326006476      158.0\n",
              "10  CUS-3336454548       21.0\n",
              "11  CUS-4023861240       58.0\n",
              "12   CUS-527400765       41.0\n",
              "13   CUS-537508723      355.0\n",
              "14   CUS-860700529      134.0\n",
              "15   CUS-883482547      179.0"
            ],
            "text/html": [
              "\n",
              "  <div id=\"df-28277581-47cd-445c-89fd-3b313c65cbc6\">\n",
              "    <div class=\"colab-df-container\">\n",
              "      <div>\n",
              "<style scoped>\n",
              "    .dataframe tbody tr th:only-of-type {\n",
              "        vertical-align: middle;\n",
              "    }\n",
              "\n",
              "    .dataframe tbody tr th {\n",
              "        vertical-align: top;\n",
              "    }\n",
              "\n",
              "    .dataframe thead th {\n",
              "        text-align: right;\n",
              "    }\n",
              "</style>\n",
              "<table border=\"1\" class=\"dataframe\">\n",
              "  <thead>\n",
              "    <tr style=\"text-align: right;\">\n",
              "      <th></th>\n",
              "      <th>customer_id</th>\n",
              "      <th>phonebank</th>\n",
              "    </tr>\n",
              "  </thead>\n",
              "  <tbody>\n",
              "    <tr>\n",
              "      <th>0</th>\n",
              "      <td>CUS-1005756958</td>\n",
              "      <td>182.0</td>\n",
              "    </tr>\n",
              "    <tr>\n",
              "      <th>1</th>\n",
              "      <td>CUS-1646183815</td>\n",
              "      <td>150.0</td>\n",
              "    </tr>\n",
              "    <tr>\n",
              "      <th>2</th>\n",
              "      <td>CUS-1896554896</td>\n",
              "      <td>1916.0</td>\n",
              "    </tr>\n",
              "    <tr>\n",
              "      <th>3</th>\n",
              "      <td>CUS-2155701614</td>\n",
              "      <td>82.0</td>\n",
              "    </tr>\n",
              "    <tr>\n",
              "      <th>4</th>\n",
              "      <td>CUS-2348881191</td>\n",
              "      <td>1629.0</td>\n",
              "    </tr>\n",
              "    <tr>\n",
              "      <th>5</th>\n",
              "      <td>CUS-2376382098</td>\n",
              "      <td>177.0</td>\n",
              "    </tr>\n",
              "    <tr>\n",
              "      <th>6</th>\n",
              "      <td>CUS-261674136</td>\n",
              "      <td>43.0</td>\n",
              "    </tr>\n",
              "    <tr>\n",
              "      <th>7</th>\n",
              "      <td>CUS-3151318058</td>\n",
              "      <td>36.0</td>\n",
              "    </tr>\n",
              "    <tr>\n",
              "      <th>8</th>\n",
              "      <td>CUS-3180318393</td>\n",
              "      <td>67.0</td>\n",
              "    </tr>\n",
              "    <tr>\n",
              "      <th>9</th>\n",
              "      <td>CUS-326006476</td>\n",
              "      <td>158.0</td>\n",
              "    </tr>\n",
              "    <tr>\n",
              "      <th>10</th>\n",
              "      <td>CUS-3336454548</td>\n",
              "      <td>21.0</td>\n",
              "    </tr>\n",
              "    <tr>\n",
              "      <th>11</th>\n",
              "      <td>CUS-4023861240</td>\n",
              "      <td>58.0</td>\n",
              "    </tr>\n",
              "    <tr>\n",
              "      <th>12</th>\n",
              "      <td>CUS-527400765</td>\n",
              "      <td>41.0</td>\n",
              "    </tr>\n",
              "    <tr>\n",
              "      <th>13</th>\n",
              "      <td>CUS-537508723</td>\n",
              "      <td>355.0</td>\n",
              "    </tr>\n",
              "    <tr>\n",
              "      <th>14</th>\n",
              "      <td>CUS-860700529</td>\n",
              "      <td>134.0</td>\n",
              "    </tr>\n",
              "    <tr>\n",
              "      <th>15</th>\n",
              "      <td>CUS-883482547</td>\n",
              "      <td>179.0</td>\n",
              "    </tr>\n",
              "  </tbody>\n",
              "</table>\n",
              "</div>\n",
              "      <button class=\"colab-df-convert\" onclick=\"convertToInteractive('df-28277581-47cd-445c-89fd-3b313c65cbc6')\"\n",
              "              title=\"Convert this dataframe to an interactive table.\"\n",
              "              style=\"display:none;\">\n",
              "        \n",
              "  <svg xmlns=\"http://www.w3.org/2000/svg\" height=\"24px\"viewBox=\"0 0 24 24\"\n",
              "       width=\"24px\">\n",
              "    <path d=\"M0 0h24v24H0V0z\" fill=\"none\"/>\n",
              "    <path d=\"M18.56 5.44l.94 2.06.94-2.06 2.06-.94-2.06-.94-.94-2.06-.94 2.06-2.06.94zm-11 1L8.5 8.5l.94-2.06 2.06-.94-2.06-.94L8.5 2.5l-.94 2.06-2.06.94zm10 10l.94 2.06.94-2.06 2.06-.94-2.06-.94-.94-2.06-.94 2.06-2.06.94z\"/><path d=\"M17.41 7.96l-1.37-1.37c-.4-.4-.92-.59-1.43-.59-.52 0-1.04.2-1.43.59L10.3 9.45l-7.72 7.72c-.78.78-.78 2.05 0 2.83L4 21.41c.39.39.9.59 1.41.59.51 0 1.02-.2 1.41-.59l7.78-7.78 2.81-2.81c.8-.78.8-2.07 0-2.86zM5.41 20L4 18.59l7.72-7.72 1.47 1.35L5.41 20z\"/>\n",
              "  </svg>\n",
              "      </button>\n",
              "      \n",
              "  <style>\n",
              "    .colab-df-container {\n",
              "      display:flex;\n",
              "      flex-wrap:wrap;\n",
              "      gap: 12px;\n",
              "    }\n",
              "\n",
              "    .colab-df-convert {\n",
              "      background-color: #E8F0FE;\n",
              "      border: none;\n",
              "      border-radius: 50%;\n",
              "      cursor: pointer;\n",
              "      display: none;\n",
              "      fill: #1967D2;\n",
              "      height: 32px;\n",
              "      padding: 0 0 0 0;\n",
              "      width: 32px;\n",
              "    }\n",
              "\n",
              "    .colab-df-convert:hover {\n",
              "      background-color: #E2EBFA;\n",
              "      box-shadow: 0px 1px 2px rgba(60, 64, 67, 0.3), 0px 1px 3px 1px rgba(60, 64, 67, 0.15);\n",
              "      fill: #174EA6;\n",
              "    }\n",
              "\n",
              "    [theme=dark] .colab-df-convert {\n",
              "      background-color: #3B4455;\n",
              "      fill: #D2E3FC;\n",
              "    }\n",
              "\n",
              "    [theme=dark] .colab-df-convert:hover {\n",
              "      background-color: #434B5C;\n",
              "      box-shadow: 0px 1px 3px 1px rgba(0, 0, 0, 0.15);\n",
              "      filter: drop-shadow(0px 1px 2px rgba(0, 0, 0, 0.3));\n",
              "      fill: #FFFFFF;\n",
              "    }\n",
              "  </style>\n",
              "\n",
              "      <script>\n",
              "        const buttonEl =\n",
              "          document.querySelector('#df-28277581-47cd-445c-89fd-3b313c65cbc6 button.colab-df-convert');\n",
              "        buttonEl.style.display =\n",
              "          google.colab.kernel.accessAllowed ? 'block' : 'none';\n",
              "\n",
              "        async function convertToInteractive(key) {\n",
              "          const element = document.querySelector('#df-28277581-47cd-445c-89fd-3b313c65cbc6');\n",
              "          const dataTable =\n",
              "            await google.colab.kernel.invokeFunction('convertToInteractive',\n",
              "                                                     [key], {});\n",
              "          if (!dataTable) return;\n",
              "\n",
              "          const docLinkHtml = 'Like what you see? Visit the ' +\n",
              "            '<a target=\"_blank\" href=https://colab.research.google.com/notebooks/data_table.ipynb>data table notebook</a>'\n",
              "            + ' to learn more about interactive tables.';\n",
              "          element.innerHTML = '';\n",
              "          dataTable['output_type'] = 'display_data';\n",
              "          await google.colab.output.renderOutput(dataTable, element);\n",
              "          const docLink = document.createElement('div');\n",
              "          docLink.innerHTML = docLinkHtml;\n",
              "          element.appendChild(docLink);\n",
              "        }\n",
              "      </script>\n",
              "    </div>\n",
              "  </div>\n",
              "  "
            ]
          },
          "metadata": {},
          "execution_count": 157
        }
      ]
    },
    {
      "cell_type": "code",
      "source": [
        "# gender=pd.DataFrame(anz_df['customer_id'].unique(), columns=['customer_id'])\n",
        "gender=anz_df.groupby('customer_id')['gender'].first().to_frame('gender').reset_index()\n",
        "gender\n",
        "# phonebank=phonebank.rename(columns = {'amount':'phonebank'})"
      ],
      "metadata": {
        "colab": {
          "base_uri": "https://localhost:8080/",
          "height": 424
        },
        "id": "P3Qg7Rxm8-d0",
        "outputId": "efcb0e0f-9194-434b-ce8e-f8634b5f40a1"
      },
      "execution_count": 158,
      "outputs": [
        {
          "output_type": "execute_result",
          "data": {
            "text/plain": [
              "       customer_id gender\n",
              "0   CUS-1005756958      F\n",
              "1   CUS-1117979751      M\n",
              "2   CUS-1140341822      M\n",
              "3   CUS-1147642491      F\n",
              "4   CUS-1196156254      F\n",
              "..             ...    ...\n",
              "95    CUS-72755508      F\n",
              "96   CUS-809013380      F\n",
              "97   CUS-860700529      M\n",
              "98   CUS-880898248      M\n",
              "99   CUS-883482547      F\n",
              "\n",
              "[100 rows x 2 columns]"
            ],
            "text/html": [
              "\n",
              "  <div id=\"df-a888b694-79f2-46a1-beb5-c045e437db7d\">\n",
              "    <div class=\"colab-df-container\">\n",
              "      <div>\n",
              "<style scoped>\n",
              "    .dataframe tbody tr th:only-of-type {\n",
              "        vertical-align: middle;\n",
              "    }\n",
              "\n",
              "    .dataframe tbody tr th {\n",
              "        vertical-align: top;\n",
              "    }\n",
              "\n",
              "    .dataframe thead th {\n",
              "        text-align: right;\n",
              "    }\n",
              "</style>\n",
              "<table border=\"1\" class=\"dataframe\">\n",
              "  <thead>\n",
              "    <tr style=\"text-align: right;\">\n",
              "      <th></th>\n",
              "      <th>customer_id</th>\n",
              "      <th>gender</th>\n",
              "    </tr>\n",
              "  </thead>\n",
              "  <tbody>\n",
              "    <tr>\n",
              "      <th>0</th>\n",
              "      <td>CUS-1005756958</td>\n",
              "      <td>F</td>\n",
              "    </tr>\n",
              "    <tr>\n",
              "      <th>1</th>\n",
              "      <td>CUS-1117979751</td>\n",
              "      <td>M</td>\n",
              "    </tr>\n",
              "    <tr>\n",
              "      <th>2</th>\n",
              "      <td>CUS-1140341822</td>\n",
              "      <td>M</td>\n",
              "    </tr>\n",
              "    <tr>\n",
              "      <th>3</th>\n",
              "      <td>CUS-1147642491</td>\n",
              "      <td>F</td>\n",
              "    </tr>\n",
              "    <tr>\n",
              "      <th>4</th>\n",
              "      <td>CUS-1196156254</td>\n",
              "      <td>F</td>\n",
              "    </tr>\n",
              "    <tr>\n",
              "      <th>...</th>\n",
              "      <td>...</td>\n",
              "      <td>...</td>\n",
              "    </tr>\n",
              "    <tr>\n",
              "      <th>95</th>\n",
              "      <td>CUS-72755508</td>\n",
              "      <td>F</td>\n",
              "    </tr>\n",
              "    <tr>\n",
              "      <th>96</th>\n",
              "      <td>CUS-809013380</td>\n",
              "      <td>F</td>\n",
              "    </tr>\n",
              "    <tr>\n",
              "      <th>97</th>\n",
              "      <td>CUS-860700529</td>\n",
              "      <td>M</td>\n",
              "    </tr>\n",
              "    <tr>\n",
              "      <th>98</th>\n",
              "      <td>CUS-880898248</td>\n",
              "      <td>M</td>\n",
              "    </tr>\n",
              "    <tr>\n",
              "      <th>99</th>\n",
              "      <td>CUS-883482547</td>\n",
              "      <td>F</td>\n",
              "    </tr>\n",
              "  </tbody>\n",
              "</table>\n",
              "<p>100 rows × 2 columns</p>\n",
              "</div>\n",
              "      <button class=\"colab-df-convert\" onclick=\"convertToInteractive('df-a888b694-79f2-46a1-beb5-c045e437db7d')\"\n",
              "              title=\"Convert this dataframe to an interactive table.\"\n",
              "              style=\"display:none;\">\n",
              "        \n",
              "  <svg xmlns=\"http://www.w3.org/2000/svg\" height=\"24px\"viewBox=\"0 0 24 24\"\n",
              "       width=\"24px\">\n",
              "    <path d=\"M0 0h24v24H0V0z\" fill=\"none\"/>\n",
              "    <path d=\"M18.56 5.44l.94 2.06.94-2.06 2.06-.94-2.06-.94-.94-2.06-.94 2.06-2.06.94zm-11 1L8.5 8.5l.94-2.06 2.06-.94-2.06-.94L8.5 2.5l-.94 2.06-2.06.94zm10 10l.94 2.06.94-2.06 2.06-.94-2.06-.94-.94-2.06-.94 2.06-2.06.94z\"/><path d=\"M17.41 7.96l-1.37-1.37c-.4-.4-.92-.59-1.43-.59-.52 0-1.04.2-1.43.59L10.3 9.45l-7.72 7.72c-.78.78-.78 2.05 0 2.83L4 21.41c.39.39.9.59 1.41.59.51 0 1.02-.2 1.41-.59l7.78-7.78 2.81-2.81c.8-.78.8-2.07 0-2.86zM5.41 20L4 18.59l7.72-7.72 1.47 1.35L5.41 20z\"/>\n",
              "  </svg>\n",
              "      </button>\n",
              "      \n",
              "  <style>\n",
              "    .colab-df-container {\n",
              "      display:flex;\n",
              "      flex-wrap:wrap;\n",
              "      gap: 12px;\n",
              "    }\n",
              "\n",
              "    .colab-df-convert {\n",
              "      background-color: #E8F0FE;\n",
              "      border: none;\n",
              "      border-radius: 50%;\n",
              "      cursor: pointer;\n",
              "      display: none;\n",
              "      fill: #1967D2;\n",
              "      height: 32px;\n",
              "      padding: 0 0 0 0;\n",
              "      width: 32px;\n",
              "    }\n",
              "\n",
              "    .colab-df-convert:hover {\n",
              "      background-color: #E2EBFA;\n",
              "      box-shadow: 0px 1px 2px rgba(60, 64, 67, 0.3), 0px 1px 3px 1px rgba(60, 64, 67, 0.15);\n",
              "      fill: #174EA6;\n",
              "    }\n",
              "\n",
              "    [theme=dark] .colab-df-convert {\n",
              "      background-color: #3B4455;\n",
              "      fill: #D2E3FC;\n",
              "    }\n",
              "\n",
              "    [theme=dark] .colab-df-convert:hover {\n",
              "      background-color: #434B5C;\n",
              "      box-shadow: 0px 1px 3px 1px rgba(0, 0, 0, 0.15);\n",
              "      filter: drop-shadow(0px 1px 2px rgba(0, 0, 0, 0.3));\n",
              "      fill: #FFFFFF;\n",
              "    }\n",
              "  </style>\n",
              "\n",
              "      <script>\n",
              "        const buttonEl =\n",
              "          document.querySelector('#df-a888b694-79f2-46a1-beb5-c045e437db7d button.colab-df-convert');\n",
              "        buttonEl.style.display =\n",
              "          google.colab.kernel.accessAllowed ? 'block' : 'none';\n",
              "\n",
              "        async function convertToInteractive(key) {\n",
              "          const element = document.querySelector('#df-a888b694-79f2-46a1-beb5-c045e437db7d');\n",
              "          const dataTable =\n",
              "            await google.colab.kernel.invokeFunction('convertToInteractive',\n",
              "                                                     [key], {});\n",
              "          if (!dataTable) return;\n",
              "\n",
              "          const docLinkHtml = 'Like what you see? Visit the ' +\n",
              "            '<a target=\"_blank\" href=https://colab.research.google.com/notebooks/data_table.ipynb>data table notebook</a>'\n",
              "            + ' to learn more about interactive tables.';\n",
              "          element.innerHTML = '';\n",
              "          dataTable['output_type'] = 'display_data';\n",
              "          await google.colab.output.renderOutput(dataTable, element);\n",
              "          const docLink = document.createElement('div');\n",
              "          docLink.innerHTML = docLinkHtml;\n",
              "          element.appendChild(docLink);\n",
              "        }\n",
              "      </script>\n",
              "    </div>\n",
              "  </div>\n",
              "  "
            ]
          },
          "metadata": {},
          "execution_count": 158
        }
      ]
    },
    {
      "cell_type": "code",
      "source": [
        "balance=anz_df.groupby('customer_id')['balance'].median().to_frame('balance').reset_index()\n",
        "balance"
      ],
      "metadata": {
        "colab": {
          "base_uri": "https://localhost:8080/",
          "height": 424
        },
        "id": "sf7KfqKEPJTQ",
        "outputId": "f6295304-e55f-4af0-dfce-d23cd2eab817"
      },
      "execution_count": 167,
      "outputs": [
        {
          "output_type": "execute_result",
          "data": {
            "text/plain": [
              "       customer_id    balance\n",
              "0   CUS-1005756958   1204.400\n",
              "1   CUS-1117979751   8838.410\n",
              "2   CUS-1140341822   6358.350\n",
              "3   CUS-1147642491   8473.430\n",
              "4   CUS-1196156254  22312.760\n",
              "..             ...        ...\n",
              "95    CUS-72755508   5211.095\n",
              "96   CUS-809013380   3123.775\n",
              "97   CUS-860700529   3885.510\n",
              "98   CUS-880898248   8486.475\n",
              "99   CUS-883482547   8704.620\n",
              "\n",
              "[100 rows x 2 columns]"
            ],
            "text/html": [
              "\n",
              "  <div id=\"df-2a942faa-84a0-4d5a-a55a-31ff2edb58ab\">\n",
              "    <div class=\"colab-df-container\">\n",
              "      <div>\n",
              "<style scoped>\n",
              "    .dataframe tbody tr th:only-of-type {\n",
              "        vertical-align: middle;\n",
              "    }\n",
              "\n",
              "    .dataframe tbody tr th {\n",
              "        vertical-align: top;\n",
              "    }\n",
              "\n",
              "    .dataframe thead th {\n",
              "        text-align: right;\n",
              "    }\n",
              "</style>\n",
              "<table border=\"1\" class=\"dataframe\">\n",
              "  <thead>\n",
              "    <tr style=\"text-align: right;\">\n",
              "      <th></th>\n",
              "      <th>customer_id</th>\n",
              "      <th>balance</th>\n",
              "    </tr>\n",
              "  </thead>\n",
              "  <tbody>\n",
              "    <tr>\n",
              "      <th>0</th>\n",
              "      <td>CUS-1005756958</td>\n",
              "      <td>1204.400</td>\n",
              "    </tr>\n",
              "    <tr>\n",
              "      <th>1</th>\n",
              "      <td>CUS-1117979751</td>\n",
              "      <td>8838.410</td>\n",
              "    </tr>\n",
              "    <tr>\n",
              "      <th>2</th>\n",
              "      <td>CUS-1140341822</td>\n",
              "      <td>6358.350</td>\n",
              "    </tr>\n",
              "    <tr>\n",
              "      <th>3</th>\n",
              "      <td>CUS-1147642491</td>\n",
              "      <td>8473.430</td>\n",
              "    </tr>\n",
              "    <tr>\n",
              "      <th>4</th>\n",
              "      <td>CUS-1196156254</td>\n",
              "      <td>22312.760</td>\n",
              "    </tr>\n",
              "    <tr>\n",
              "      <th>...</th>\n",
              "      <td>...</td>\n",
              "      <td>...</td>\n",
              "    </tr>\n",
              "    <tr>\n",
              "      <th>95</th>\n",
              "      <td>CUS-72755508</td>\n",
              "      <td>5211.095</td>\n",
              "    </tr>\n",
              "    <tr>\n",
              "      <th>96</th>\n",
              "      <td>CUS-809013380</td>\n",
              "      <td>3123.775</td>\n",
              "    </tr>\n",
              "    <tr>\n",
              "      <th>97</th>\n",
              "      <td>CUS-860700529</td>\n",
              "      <td>3885.510</td>\n",
              "    </tr>\n",
              "    <tr>\n",
              "      <th>98</th>\n",
              "      <td>CUS-880898248</td>\n",
              "      <td>8486.475</td>\n",
              "    </tr>\n",
              "    <tr>\n",
              "      <th>99</th>\n",
              "      <td>CUS-883482547</td>\n",
              "      <td>8704.620</td>\n",
              "    </tr>\n",
              "  </tbody>\n",
              "</table>\n",
              "<p>100 rows × 2 columns</p>\n",
              "</div>\n",
              "      <button class=\"colab-df-convert\" onclick=\"convertToInteractive('df-2a942faa-84a0-4d5a-a55a-31ff2edb58ab')\"\n",
              "              title=\"Convert this dataframe to an interactive table.\"\n",
              "              style=\"display:none;\">\n",
              "        \n",
              "  <svg xmlns=\"http://www.w3.org/2000/svg\" height=\"24px\"viewBox=\"0 0 24 24\"\n",
              "       width=\"24px\">\n",
              "    <path d=\"M0 0h24v24H0V0z\" fill=\"none\"/>\n",
              "    <path d=\"M18.56 5.44l.94 2.06.94-2.06 2.06-.94-2.06-.94-.94-2.06-.94 2.06-2.06.94zm-11 1L8.5 8.5l.94-2.06 2.06-.94-2.06-.94L8.5 2.5l-.94 2.06-2.06.94zm10 10l.94 2.06.94-2.06 2.06-.94-2.06-.94-.94-2.06-.94 2.06-2.06.94z\"/><path d=\"M17.41 7.96l-1.37-1.37c-.4-.4-.92-.59-1.43-.59-.52 0-1.04.2-1.43.59L10.3 9.45l-7.72 7.72c-.78.78-.78 2.05 0 2.83L4 21.41c.39.39.9.59 1.41.59.51 0 1.02-.2 1.41-.59l7.78-7.78 2.81-2.81c.8-.78.8-2.07 0-2.86zM5.41 20L4 18.59l7.72-7.72 1.47 1.35L5.41 20z\"/>\n",
              "  </svg>\n",
              "      </button>\n",
              "      \n",
              "  <style>\n",
              "    .colab-df-container {\n",
              "      display:flex;\n",
              "      flex-wrap:wrap;\n",
              "      gap: 12px;\n",
              "    }\n",
              "\n",
              "    .colab-df-convert {\n",
              "      background-color: #E8F0FE;\n",
              "      border: none;\n",
              "      border-radius: 50%;\n",
              "      cursor: pointer;\n",
              "      display: none;\n",
              "      fill: #1967D2;\n",
              "      height: 32px;\n",
              "      padding: 0 0 0 0;\n",
              "      width: 32px;\n",
              "    }\n",
              "\n",
              "    .colab-df-convert:hover {\n",
              "      background-color: #E2EBFA;\n",
              "      box-shadow: 0px 1px 2px rgba(60, 64, 67, 0.3), 0px 1px 3px 1px rgba(60, 64, 67, 0.15);\n",
              "      fill: #174EA6;\n",
              "    }\n",
              "\n",
              "    [theme=dark] .colab-df-convert {\n",
              "      background-color: #3B4455;\n",
              "      fill: #D2E3FC;\n",
              "    }\n",
              "\n",
              "    [theme=dark] .colab-df-convert:hover {\n",
              "      background-color: #434B5C;\n",
              "      box-shadow: 0px 1px 3px 1px rgba(0, 0, 0, 0.15);\n",
              "      filter: drop-shadow(0px 1px 2px rgba(0, 0, 0, 0.3));\n",
              "      fill: #FFFFFF;\n",
              "    }\n",
              "  </style>\n",
              "\n",
              "      <script>\n",
              "        const buttonEl =\n",
              "          document.querySelector('#df-2a942faa-84a0-4d5a-a55a-31ff2edb58ab button.colab-df-convert');\n",
              "        buttonEl.style.display =\n",
              "          google.colab.kernel.accessAllowed ? 'block' : 'none';\n",
              "\n",
              "        async function convertToInteractive(key) {\n",
              "          const element = document.querySelector('#df-2a942faa-84a0-4d5a-a55a-31ff2edb58ab');\n",
              "          const dataTable =\n",
              "            await google.colab.kernel.invokeFunction('convertToInteractive',\n",
              "                                                     [key], {});\n",
              "          if (!dataTable) return;\n",
              "\n",
              "          const docLinkHtml = 'Like what you see? Visit the ' +\n",
              "            '<a target=\"_blank\" href=https://colab.research.google.com/notebooks/data_table.ipynb>data table notebook</a>'\n",
              "            + ' to learn more about interactive tables.';\n",
              "          element.innerHTML = '';\n",
              "          dataTable['output_type'] = 'display_data';\n",
              "          await google.colab.output.renderOutput(dataTable, element);\n",
              "          const docLink = document.createElement('div');\n",
              "          docLink.innerHTML = docLinkHtml;\n",
              "          element.appendChild(docLink);\n",
              "        }\n",
              "      </script>\n",
              "    </div>\n",
              "  </div>\n",
              "  "
            ]
          },
          "metadata": {},
          "execution_count": 167
        }
      ]
    },
    {
      "cell_type": "markdown",
      "source": [
        "Combining the above transaction type data into a single dataframe"
      ],
      "metadata": {
        "id": "vHO6Hebj69dD"
      }
    },
    {
      "cell_type": "code",
      "source": [
        "customer=anz_df.groupby(\"customer_id\").mean().reset_index()\n",
        "customer=customer[[\"customer_id\",\"age\"]]\n",
        "df=pd.merge(customer, payment, on=\"customer_id\")\n",
        "df=pd.merge(df, pos, on=\"customer_id\")\n",
        "df=pd.merge(df, salary, on=\"customer_id\")\n",
        "df=pd.merge(df, balance, on=\"customer_id\")\n",
        "df=pd.merge(df, gender , on=\"customer_id\")"
      ],
      "metadata": {
        "id": "iypwUNoD7GJQ"
      },
      "execution_count": 181,
      "outputs": []
    },
    {
      "cell_type": "code",
      "source": [
        "df['average_expenditure']=(df['payment']+df['pos'])/2"
      ],
      "metadata": {
        "id": "mLVeziufPNIS"
      },
      "execution_count": 182,
      "outputs": []
    },
    {
      "cell_type": "code",
      "source": [
        "df.head()"
      ],
      "metadata": {
        "colab": {
          "base_uri": "https://localhost:8080/",
          "height": 206
        },
        "id": "Q_BiyJH27NJG",
        "outputId": "6d20050d-59da-4742-d87b-0c22f90eeba0"
      },
      "execution_count": 183,
      "outputs": [
        {
          "output_type": "execute_result",
          "data": {
            "text/plain": [
              "      customer_id   age  payment     pos   salary   balance gender  \\\n",
              "0  CUS-1005756958  53.0    148.0  21.290   970.47   1204.40      F   \n",
              "1  CUS-1117979751  21.0     55.0  20.305  3578.65   8838.41      M   \n",
              "2  CUS-1140341822  28.0    142.0  18.940  1916.51   6358.35      M   \n",
              "3  CUS-1147642491  34.0     79.0  38.075  1711.39   8473.43      F   \n",
              "4  CUS-1196156254  34.0     31.0  21.955  3903.73  22312.76      F   \n",
              "\n",
              "   average_expenditure  \n",
              "0              84.6450  \n",
              "1              37.6525  \n",
              "2              80.4700  \n",
              "3              58.5375  \n",
              "4              26.4775  "
            ],
            "text/html": [
              "\n",
              "  <div id=\"df-7e62e07d-c98a-464d-8ec7-296c81ea8ced\">\n",
              "    <div class=\"colab-df-container\">\n",
              "      <div>\n",
              "<style scoped>\n",
              "    .dataframe tbody tr th:only-of-type {\n",
              "        vertical-align: middle;\n",
              "    }\n",
              "\n",
              "    .dataframe tbody tr th {\n",
              "        vertical-align: top;\n",
              "    }\n",
              "\n",
              "    .dataframe thead th {\n",
              "        text-align: right;\n",
              "    }\n",
              "</style>\n",
              "<table border=\"1\" class=\"dataframe\">\n",
              "  <thead>\n",
              "    <tr style=\"text-align: right;\">\n",
              "      <th></th>\n",
              "      <th>customer_id</th>\n",
              "      <th>age</th>\n",
              "      <th>payment</th>\n",
              "      <th>pos</th>\n",
              "      <th>salary</th>\n",
              "      <th>balance</th>\n",
              "      <th>gender</th>\n",
              "      <th>average_expenditure</th>\n",
              "    </tr>\n",
              "  </thead>\n",
              "  <tbody>\n",
              "    <tr>\n",
              "      <th>0</th>\n",
              "      <td>CUS-1005756958</td>\n",
              "      <td>53.0</td>\n",
              "      <td>148.0</td>\n",
              "      <td>21.290</td>\n",
              "      <td>970.47</td>\n",
              "      <td>1204.40</td>\n",
              "      <td>F</td>\n",
              "      <td>84.6450</td>\n",
              "    </tr>\n",
              "    <tr>\n",
              "      <th>1</th>\n",
              "      <td>CUS-1117979751</td>\n",
              "      <td>21.0</td>\n",
              "      <td>55.0</td>\n",
              "      <td>20.305</td>\n",
              "      <td>3578.65</td>\n",
              "      <td>8838.41</td>\n",
              "      <td>M</td>\n",
              "      <td>37.6525</td>\n",
              "    </tr>\n",
              "    <tr>\n",
              "      <th>2</th>\n",
              "      <td>CUS-1140341822</td>\n",
              "      <td>28.0</td>\n",
              "      <td>142.0</td>\n",
              "      <td>18.940</td>\n",
              "      <td>1916.51</td>\n",
              "      <td>6358.35</td>\n",
              "      <td>M</td>\n",
              "      <td>80.4700</td>\n",
              "    </tr>\n",
              "    <tr>\n",
              "      <th>3</th>\n",
              "      <td>CUS-1147642491</td>\n",
              "      <td>34.0</td>\n",
              "      <td>79.0</td>\n",
              "      <td>38.075</td>\n",
              "      <td>1711.39</td>\n",
              "      <td>8473.43</td>\n",
              "      <td>F</td>\n",
              "      <td>58.5375</td>\n",
              "    </tr>\n",
              "    <tr>\n",
              "      <th>4</th>\n",
              "      <td>CUS-1196156254</td>\n",
              "      <td>34.0</td>\n",
              "      <td>31.0</td>\n",
              "      <td>21.955</td>\n",
              "      <td>3903.73</td>\n",
              "      <td>22312.76</td>\n",
              "      <td>F</td>\n",
              "      <td>26.4775</td>\n",
              "    </tr>\n",
              "  </tbody>\n",
              "</table>\n",
              "</div>\n",
              "      <button class=\"colab-df-convert\" onclick=\"convertToInteractive('df-7e62e07d-c98a-464d-8ec7-296c81ea8ced')\"\n",
              "              title=\"Convert this dataframe to an interactive table.\"\n",
              "              style=\"display:none;\">\n",
              "        \n",
              "  <svg xmlns=\"http://www.w3.org/2000/svg\" height=\"24px\"viewBox=\"0 0 24 24\"\n",
              "       width=\"24px\">\n",
              "    <path d=\"M0 0h24v24H0V0z\" fill=\"none\"/>\n",
              "    <path d=\"M18.56 5.44l.94 2.06.94-2.06 2.06-.94-2.06-.94-.94-2.06-.94 2.06-2.06.94zm-11 1L8.5 8.5l.94-2.06 2.06-.94-2.06-.94L8.5 2.5l-.94 2.06-2.06.94zm10 10l.94 2.06.94-2.06 2.06-.94-2.06-.94-.94-2.06-.94 2.06-2.06.94z\"/><path d=\"M17.41 7.96l-1.37-1.37c-.4-.4-.92-.59-1.43-.59-.52 0-1.04.2-1.43.59L10.3 9.45l-7.72 7.72c-.78.78-.78 2.05 0 2.83L4 21.41c.39.39.9.59 1.41.59.51 0 1.02-.2 1.41-.59l7.78-7.78 2.81-2.81c.8-.78.8-2.07 0-2.86zM5.41 20L4 18.59l7.72-7.72 1.47 1.35L5.41 20z\"/>\n",
              "  </svg>\n",
              "      </button>\n",
              "      \n",
              "  <style>\n",
              "    .colab-df-container {\n",
              "      display:flex;\n",
              "      flex-wrap:wrap;\n",
              "      gap: 12px;\n",
              "    }\n",
              "\n",
              "    .colab-df-convert {\n",
              "      background-color: #E8F0FE;\n",
              "      border: none;\n",
              "      border-radius: 50%;\n",
              "      cursor: pointer;\n",
              "      display: none;\n",
              "      fill: #1967D2;\n",
              "      height: 32px;\n",
              "      padding: 0 0 0 0;\n",
              "      width: 32px;\n",
              "    }\n",
              "\n",
              "    .colab-df-convert:hover {\n",
              "      background-color: #E2EBFA;\n",
              "      box-shadow: 0px 1px 2px rgba(60, 64, 67, 0.3), 0px 1px 3px 1px rgba(60, 64, 67, 0.15);\n",
              "      fill: #174EA6;\n",
              "    }\n",
              "\n",
              "    [theme=dark] .colab-df-convert {\n",
              "      background-color: #3B4455;\n",
              "      fill: #D2E3FC;\n",
              "    }\n",
              "\n",
              "    [theme=dark] .colab-df-convert:hover {\n",
              "      background-color: #434B5C;\n",
              "      box-shadow: 0px 1px 3px 1px rgba(0, 0, 0, 0.15);\n",
              "      filter: drop-shadow(0px 1px 2px rgba(0, 0, 0, 0.3));\n",
              "      fill: #FFFFFF;\n",
              "    }\n",
              "  </style>\n",
              "\n",
              "      <script>\n",
              "        const buttonEl =\n",
              "          document.querySelector('#df-7e62e07d-c98a-464d-8ec7-296c81ea8ced button.colab-df-convert');\n",
              "        buttonEl.style.display =\n",
              "          google.colab.kernel.accessAllowed ? 'block' : 'none';\n",
              "\n",
              "        async function convertToInteractive(key) {\n",
              "          const element = document.querySelector('#df-7e62e07d-c98a-464d-8ec7-296c81ea8ced');\n",
              "          const dataTable =\n",
              "            await google.colab.kernel.invokeFunction('convertToInteractive',\n",
              "                                                     [key], {});\n",
              "          if (!dataTable) return;\n",
              "\n",
              "          const docLinkHtml = 'Like what you see? Visit the ' +\n",
              "            '<a target=\"_blank\" href=https://colab.research.google.com/notebooks/data_table.ipynb>data table notebook</a>'\n",
              "            + ' to learn more about interactive tables.';\n",
              "          element.innerHTML = '';\n",
              "          dataTable['output_type'] = 'display_data';\n",
              "          await google.colab.output.renderOutput(dataTable, element);\n",
              "          const docLink = document.createElement('div');\n",
              "          docLink.innerHTML = docLinkHtml;\n",
              "          element.appendChild(docLink);\n",
              "        }\n",
              "      </script>\n",
              "    </div>\n",
              "  </div>\n",
              "  "
            ]
          },
          "metadata": {},
          "execution_count": 183
        }
      ]
    },
    {
      "cell_type": "code",
      "source": [
        "plt.figure(figsize=(12, 8))\n",
        "sns.regplot(x=\"payment\",y= \"salary\", fit_reg=True, data=df)"
      ],
      "metadata": {
        "colab": {
          "base_uri": "https://localhost:8080/",
          "height": 514
        },
        "id": "kQziRakof_BU",
        "outputId": "3b382ecd-2bc2-4bbf-b22e-8ab9ee5fa05f"
      },
      "execution_count": 247,
      "outputs": [
        {
          "output_type": "execute_result",
          "data": {
            "text/plain": [
              "<AxesSubplot:xlabel='payment', ylabel='salary'>"
            ]
          },
          "metadata": {},
          "execution_count": 247
        },
        {
          "output_type": "display_data",
          "data": {
            "text/plain": [
              "<Figure size 864x576 with 1 Axes>"
            ],
            "image/png": "[encoded data removed]"
          },
          "metadata": {
            "needs_background": "light"
          }
        }
      ]
    },
    {
      "cell_type": "code",
      "source": [
        "plt.figure(figsize=(12, 8))\n",
        "sns.regplot(x=\"average_expenditure\",y= \"salary\", fit_reg=True, data=df)"
      ],
      "metadata": {
        "colab": {
          "base_uri": "https://localhost:8080/",
          "height": 515
        },
        "id": "SyMYisbEgDcX",
        "outputId": "fe70d22e-b8bf-40aa-b0e0-d0344e0e232a"
      },
      "execution_count": 248,
      "outputs": [
        {
          "output_type": "execute_result",
          "data": {
            "text/plain": [
              "<AxesSubplot:xlabel='average_expenditure', ylabel='salary'>"
            ]
          },
          "metadata": {},
          "execution_count": 248
        },
        {
          "output_type": "display_data",
          "data": {
            "text/plain": [
              "<Figure size 864x576 with 1 Axes>"
            ],
            "image/png": "[encoded data removed]"
          },
          "metadata": {
            "needs_background": "light"
          }
        }
      ]
    },
    {
      "cell_type": "markdown",
      "source": [
        "Combine all the expenditure and see the correlation it has with the salary."
      ],
      "metadata": {
        "id": "13UpJiJp7ZTL"
      }
    },
    {
      "cell_type": "code",
      "source": [
        "df['gender_int']=(df['gender']=='F').astype(int)"
      ],
      "metadata": {
        "id": "WI_7G94x7hY4"
      },
      "execution_count": 184,
      "outputs": []
    },
    {
      "cell_type": "code",
      "source": [
        "df_corr=df.drop(['gender', 'customer_id'], axis=1)"
      ],
      "metadata": {
        "id": "phjDC1uoJ_JF"
      },
      "execution_count": 185,
      "outputs": []
    },
    {
      "cell_type": "code",
      "source": [
        "sns.heatmap(df_corr.corr(), annot=True)"
      ],
      "metadata": {
        "colab": {
          "base_uri": "https://localhost:8080/",
          "height": 382
        },
        "id": "25n3kfa8Km7e",
        "outputId": "b013b7ae-6981-4747-ea7c-b3d9cb9adbff"
      },
      "execution_count": 186,
      "outputs": [
        {
          "output_type": "execute_result",
          "data": {
            "text/plain": [
              "<AxesSubplot:>"
            ]
          },
          "metadata": {},
          "execution_count": 186
        },
        {
          "output_type": "display_data",
          "data": {
            "text/plain": [
              "<Figure size 432x288 with 2 Axes>"
            ],
            "image/png": "[encoded data removed]"
          },
          "metadata": {
            "needs_background": "light"
          }
        }
      ]
    },
    {
      "cell_type": "code",
      "source": [
        "#average number of weekly transactions\n",
        "avg_no_weekly_trans = []\n",
        "for id_ in unique_id:\n",
        "    array = anz_df.loc[anz_df.customer_id == id_, \"date\"]\n",
        "    avg_no_weekly_trans.append(round(len(array)/array.nunique()*7))\n",
        "avg_no_weekly_trans[:5]"
      ],
      "metadata": {
        "colab": {
          "base_uri": "https://localhost:8080/"
        },
        "id": "GaPElaQ-Lsnm",
        "outputId": "a49a355f-665d-4c31-dbeb-a71c1e6d3cd3"
      },
      "execution_count": 187,
      "outputs": [
        {
          "output_type": "execute_result",
          "data": {
            "text/plain": [
              "[48, 29, 24, 14, 21]"
            ]
          },
          "metadata": {},
          "execution_count": 187
        }
      ]
    },
    {
      "cell_type": "code",
      "source": [
        "#maximum amount transacted\n",
        "max_amount = []\n",
        "for id_ in unique_id:\n",
        "    array = anz_df.loc[anz_df.customer_id == id_, \"amount\"]\n",
        "    max_amount.append(max(array))\n",
        "max_amount[:5]"
      ],
      "metadata": {
        "colab": {
          "base_uri": "https://localhost:8080/"
        },
        "id": "7A5CT5aBTSF9",
        "outputId": "8880d4df-1827-4b8f-8003-7114dc920cf8"
      },
      "execution_count": 188,
      "outputs": [
        {
          "output_type": "execute_result",
          "data": {
            "text/plain": [
              "[1452.21, 2349.55, 892.09, 2320.3, 1068.04]"
            ]
          },
          "metadata": {},
          "execution_count": 188
        }
      ]
    },
    {
      "cell_type": "code",
      "source": [
        "#number of large transactions\n",
        "no_large_trans = []\n",
        "for id_ in unique_id:\n",
        "    count = 0\n",
        "    array = anz_df.loc[anz_df.customer_id == id_, \"amount\"]\n",
        "    for amount in array:\n",
        "        if amount > 100:\n",
        "            count += 1\n",
        "    no_large_trans.append(count)\n",
        "len(no_large_trans)"
      ],
      "metadata": {
        "colab": {
          "base_uri": "https://localhost:8080/"
        },
        "id": "du1ZqQOgTfZo",
        "outputId": "9fcd3bc1-0522-4ce9-eab6-c4dc0da5a1fb"
      },
      "execution_count": 190,
      "outputs": [
        {
          "output_type": "execute_result",
          "data": {
            "text/plain": [
              "100"
            ]
          },
          "metadata": {},
          "execution_count": 190
        }
      ]
    },
    {
      "cell_type": "code",
      "source": [
        "features_df = pd.DataFrame({\"customer_id\": unique_id, \n",
        "                            \"avg_no_weekly_trans\": avg_no_weekly_trans, \n",
        "                            \"max_amount\": max_amount, \n",
        "                            \"no_large_trans\": no_large_trans\n",
        "                            })\n",
        "len(features_df)"
      ],
      "metadata": {
        "colab": {
          "base_uri": "https://localhost:8080/"
        },
        "id": "zuxn2eD2VvaB",
        "outputId": "4775214a-6e84-49ba-c6da-aa88c783ab7c"
      },
      "execution_count": 201,
      "outputs": [
        {
          "output_type": "execute_result",
          "data": {
            "text/plain": [
              "100"
            ]
          },
          "metadata": {},
          "execution_count": 201
        }
      ]
    },
    {
      "cell_type": "code",
      "source": [
        "merged_df = pd.merge(features_df, df.drop(['gender', 'salary'], axis=1), on ='customer_id')\n",
        "final_df=pd.merge(merged_df,salary_df[['annual_salary','customer_id']], on='customer_id')"
      ],
      "metadata": {
        "id": "bVUZ7SokW8Si"
      },
      "execution_count": 227,
      "outputs": []
    },
    {
      "cell_type": "code",
      "source": [
        "complete_correlation2= associations(final_df, filename= 'complete_correlation2.png', figsize=(10,10))"
      ],
      "metadata": {
        "colab": {
          "base_uri": "https://localhost:8080/",
          "height": 643
        },
        "id": "eEcMmIi6YaE5",
        "outputId": "fb326c05-91d2-4549-a07f-b345c5f3a5d2"
      },
      "execution_count": 229,
      "outputs": [
        {
          "output_type": "display_data",
          "data": {
            "text/plain": [
              "<Figure size 720x720 with 2 Axes>"
            ],
            "image/png": "[encoded data removed]"
          },
          "metadata": {
            "needs_background": "light"
          }
        }
      ]
    },
    {
      "cell_type": "markdown",
      "source": [
        "## **Preprocessing**\n",
        "### **Train test split**"
      ],
      "metadata": {
        "id": "wxSQ-_UOaj3v"
      }
    },
    {
      "cell_type": "code",
      "source": [
        "X = final_df.drop([\"customer_id\", \"annual_salary\"], axis = 1)\n",
        "Y = final_df.annual_salary\n",
        "print(\"X shape: \", X.shape)\n",
        "print(\"Y shape: \", Y.shape)"
      ],
      "metadata": {
        "colab": {
          "base_uri": "https://localhost:8080/"
        },
        "id": "uZ7U2MQtaUZU",
        "outputId": "cfebdff7-d49d-4d33-a013-3616b257ad4d"
      },
      "execution_count": 231,
      "outputs": [
        {
          "output_type": "stream",
          "name": "stdout",
          "text": [
            "X shape:  (100, 9)\n",
            "Y shape:  (100,)\n"
          ]
        }
      ]
    },
    {
      "cell_type": "code",
      "source": [
        "X_train, X_test, Y_train, Y_test = train_test_split(X, Y, test_size = 0.3, random_state = 42)\n",
        "\n",
        "print(\"X_train shape: \", X_train.shape)\n",
        "print(\"Y_train shape: \", Y_train.shape)\n",
        "print(\"X_test shape: \", X_test.shape)\n",
        "print(\"Y_test shape: \", Y_test.shape)"
      ],
      "metadata": {
        "colab": {
          "base_uri": "https://localhost:8080/"
        },
        "id": "JRGVQ3EbbEvv",
        "outputId": "5b166076-5dfb-42ed-b687-5915e4006c98"
      },
      "execution_count": 232,
      "outputs": [
        {
          "output_type": "stream",
          "name": "stdout",
          "text": [
            "X_train shape:  (70, 9)\n",
            "Y_train shape:  (70,)\n",
            "X_test shape:  (30, 9)\n",
            "Y_test shape:  (30,)\n"
          ]
        }
      ]
    },
    {
      "cell_type": "code",
      "source": [
        "# Crete column transformer \n",
        "\n",
        "scaler = StandardScaler()\n",
        "column_transform = make_column_transformer((scaler, [\"avg_no_weekly_trans\", \"max_amount\", \"no_large_trans\", 'age', 'payment', 'pos', 'balance', 'average_expenditure']))"
      ],
      "metadata": {
        "id": "wJhjlZusbQ3z"
      },
      "execution_count": 233,
      "outputs": []
    },
    {
      "cell_type": "markdown",
      "source": [
        "### **Linear Regression**"
      ],
      "metadata": {
        "id": "tznX4L3KcgwG"
      }
    },
    {
      "cell_type": "code",
      "source": [
        "# Instantiate model and pipeline\n",
        "lm = LinearRegression()\n",
        "lm_pipeline = make_pipeline(column_transform, lm)"
      ],
      "metadata": {
        "id": "w1ScQ0f4cbfR"
      },
      "execution_count": 235,
      "outputs": []
    },
    {
      "cell_type": "code",
      "source": [
        "# Fit pipeline and make predictions \n",
        "lm_pipeline.fit(X_train, Y_train)\n",
        "lm_pred = lm_pipeline.predict(X_test)"
      ],
      "metadata": {
        "id": "-qojP7j_co8Y"
      },
      "execution_count": 236,
      "outputs": []
    },
    {
      "cell_type": "code",
      "source": [
        "# RMSE\n",
        "\n",
        "print(\"RMSE: \", round(np.sqrt(mean_squared_error(Y_test, lm_pred))))"
      ],
      "metadata": {
        "colab": {
          "base_uri": "https://localhost:8080/"
        },
        "id": "qFAPfXOJcvZw",
        "outputId": "a4dcc4cc-57d9-4693-c89f-187ab09243af"
      },
      "execution_count": 245,
      "outputs": [
        {
          "output_type": "stream",
          "name": "stdout",
          "text": [
            "RMSE:  22750\n"
          ]
        }
      ]
    },
    {
      "cell_type": "code",
      "source": [
        "#r2 score\n",
        "from sklearn.metrics import r2_score\n",
        "print('Coefficient of determination: ', r2_score(Y_test, lm_pred))"
      ],
      "metadata": {
        "colab": {
          "base_uri": "https://localhost:8080/"
        },
        "id": "stlG56LOd4or",
        "outputId": "3555e1e0-d040-4efb-c2b3-6ba786c61143"
      },
      "execution_count": 242,
      "outputs": [
        {
          "output_type": "stream",
          "name": "stdout",
          "text": [
            "Coefficient of determination:  0.2479563929961759\n"
          ]
        }
      ]
    },
    {
      "cell_type": "markdown",
      "source": [
        "### **Decision Tree**"
      ],
      "metadata": {
        "id": "ppPBdUUZc2A8"
      }
    },
    {
      "cell_type": "code",
      "source": [
        "# Instantiate model and pipeline \n",
        "tree = DecisionTreeRegressor()\n",
        "tree_pipeline = make_pipeline(column_transform, tree)"
      ],
      "metadata": {
        "id": "pp2Kbe2lc8dM"
      },
      "execution_count": 238,
      "outputs": []
    },
    {
      "cell_type": "code",
      "source": [
        "# Fit pipeline and make predictions \n",
        "tree_pipeline.fit(X_train, Y_train)\n",
        "tree_pred = tree_pipeline.predict(X_test)"
      ],
      "metadata": {
        "id": "3S6JcI_ic_Xo"
      },
      "execution_count": 239,
      "outputs": []
    },
    {
      "cell_type": "code",
      "source": [
        "# RMSE\n",
        "print(\"RMSE: \", round(np.sqrt(mean_squared_error(tree_pred, Y_test))))"
      ],
      "metadata": {
        "colab": {
          "base_uri": "https://localhost:8080/"
        },
        "id": "xYvPeZyjdDmg",
        "outputId": "786e120b-613a-458d-f6a9-4bad20c30631"
      },
      "execution_count": 240,
      "outputs": [
        {
          "output_type": "stream",
          "name": "stdout",
          "text": [
            "RMSE:  22075\n"
          ]
        }
      ]
    },
    {
      "cell_type": "code",
      "source": [
        "print('Coefficient of determination: ', r2_score(Y_test, tree_pred))"
      ],
      "metadata": {
        "colab": {
          "base_uri": "https://localhost:8080/"
        },
        "id": "y12KHoeIfb41",
        "outputId": "b476ca82-6475-4f7d-bd6a-4fd5f9866fc5"
      },
      "execution_count": 246,
      "outputs": [
        {
          "output_type": "stream",
          "name": "stdout",
          "text": [
            "Coefficient of determination:  0.291928589706942\n"
          ]
        }
      ]
    },
    {
      "cell_type": "markdown",
      "source": [
        "The results show that we can't predict the annual salary with the state and amount of data that was given. The decision tree model performed better with a coefficient of determination of almost 30% which means that the training data only fit the model by 30%. The linear regression model has a coefficient of determination of 24.7%. \n",
        "So, these models can't be used for annual salary prediction, and can be improved by increasing the amount of training data, and a better selection of predictor features."
      ],
      "metadata": {
        "id": "r28GJ-GOmAz9"
      }
    }
  ]
}